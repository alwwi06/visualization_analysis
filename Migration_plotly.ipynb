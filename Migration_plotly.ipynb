{
 "cells": [
  {
   "cell_type": "code",
   "execution_count": 821,
   "metadata": {},
   "outputs": [],
   "source": [
    "import pandas as pd\n",
    "import numpy as np\n",
    "import os\n",
    "\n",
    "import matplotlib.pyplot as plt\n",
    "%matplotlib inline\n",
    "%config InlineBackend.figure_format='retina'\n",
    "import seaborn as sns\n",
    "sns.set()"
   ]
  },
  {
   "cell_type": "code",
   "execution_count": 829,
   "metadata": {},
   "outputs": [],
   "source": [
    "# Import migration database from the World Bank\n",
    "migration_WB = pd.read_csv('inmigration.csv',header=0,names = ['origin_name', 'origin_code',\n",
    "       'gender', 'gender_code',\n",
    "       'dest_name', 'dest_code', '1960', '1970',\n",
    "       '1980', '1990', '2000'])"
   ]
  },
  {
   "cell_type": "code",
   "execution_count": 832,
   "metadata": {},
   "outputs": [
    {
     "data": {
      "text/html": [
       "<div>\n",
       "<style scoped>\n",
       "    .dataframe tbody tr th:only-of-type {\n",
       "        vertical-align: middle;\n",
       "    }\n",
       "\n",
       "    .dataframe tbody tr th {\n",
       "        vertical-align: top;\n",
       "    }\n",
       "\n",
       "    .dataframe thead th {\n",
       "        text-align: right;\n",
       "    }\n",
       "</style>\n",
       "<table border=\"1\" class=\"dataframe\">\n",
       "  <thead>\n",
       "    <tr style=\"text-align: right;\">\n",
       "      <th></th>\n",
       "      <th>origin_name</th>\n",
       "      <th>origin_code</th>\n",
       "      <th>gender</th>\n",
       "      <th>gender_code</th>\n",
       "      <th>dest_name</th>\n",
       "      <th>dest_code</th>\n",
       "      <th>1960</th>\n",
       "      <th>1970</th>\n",
       "      <th>1980</th>\n",
       "      <th>1990</th>\n",
       "      <th>2000</th>\n",
       "    </tr>\n",
       "  </thead>\n",
       "  <tbody>\n",
       "    <tr>\n",
       "      <th>0</th>\n",
       "      <td>Afghanistan</td>\n",
       "      <td>AFG</td>\n",
       "      <td>Female</td>\n",
       "      <td>FEM</td>\n",
       "      <td>Afghanistan</td>\n",
       "      <td>AFG</td>\n",
       "      <td>0</td>\n",
       "      <td>0</td>\n",
       "      <td>0</td>\n",
       "      <td>0</td>\n",
       "      <td>0</td>\n",
       "    </tr>\n",
       "    <tr>\n",
       "      <th>1</th>\n",
       "      <td>Afghanistan</td>\n",
       "      <td>AFG</td>\n",
       "      <td>Female</td>\n",
       "      <td>FEM</td>\n",
       "      <td>Albania</td>\n",
       "      <td>ALB</td>\n",
       "      <td>0</td>\n",
       "      <td>0</td>\n",
       "      <td>0</td>\n",
       "      <td>0</td>\n",
       "      <td>0</td>\n",
       "    </tr>\n",
       "    <tr>\n",
       "      <th>2</th>\n",
       "      <td>Afghanistan</td>\n",
       "      <td>AFG</td>\n",
       "      <td>Female</td>\n",
       "      <td>FEM</td>\n",
       "      <td>Algeria</td>\n",
       "      <td>DZA</td>\n",
       "      <td>22</td>\n",
       "      <td>8</td>\n",
       "      <td>6</td>\n",
       "      <td>5</td>\n",
       "      <td>4</td>\n",
       "    </tr>\n",
       "    <tr>\n",
       "      <th>3</th>\n",
       "      <td>Afghanistan</td>\n",
       "      <td>AFG</td>\n",
       "      <td>Female</td>\n",
       "      <td>FEM</td>\n",
       "      <td>American Samoa</td>\n",
       "      <td>ASM</td>\n",
       "      <td>0</td>\n",
       "      <td>0</td>\n",
       "      <td>0</td>\n",
       "      <td>0</td>\n",
       "      <td>0</td>\n",
       "    </tr>\n",
       "    <tr>\n",
       "      <th>4</th>\n",
       "      <td>Afghanistan</td>\n",
       "      <td>AFG</td>\n",
       "      <td>Female</td>\n",
       "      <td>FEM</td>\n",
       "      <td>Andorra</td>\n",
       "      <td>AND</td>\n",
       "      <td>0</td>\n",
       "      <td>0</td>\n",
       "      <td>0</td>\n",
       "      <td>2</td>\n",
       "      <td>3</td>\n",
       "    </tr>\n",
       "  </tbody>\n",
       "</table>\n",
       "</div>"
      ],
      "text/plain": [
       "   origin_name origin_code  gender gender_code       dest_name dest_code 1960  \\\n",
       "0  Afghanistan         AFG  Female         FEM     Afghanistan       AFG    0   \n",
       "1  Afghanistan         AFG  Female         FEM         Albania       ALB    0   \n",
       "2  Afghanistan         AFG  Female         FEM         Algeria       DZA   22   \n",
       "3  Afghanistan         AFG  Female         FEM  American Samoa       ASM    0   \n",
       "4  Afghanistan         AFG  Female         FEM         Andorra       AND    0   \n",
       "\n",
       "  1970 1980 1990 2000  \n",
       "0    0    0    0    0  \n",
       "1    0    0    0    0  \n",
       "2    8    6    5    4  \n",
       "3    0    0    0    0  \n",
       "4    0    0    2    3  "
      ]
     },
     "execution_count": 832,
     "metadata": {},
     "output_type": "execute_result"
    }
   ],
   "source": [
    "migration_WB.head(5)"
   ]
  },
  {
   "cell_type": "code",
   "execution_count": 838,
   "metadata": {},
   "outputs": [
    {
     "data": {
      "text/plain": [
       "origin_name    3\n",
       "origin_code    5\n",
       "gender         5\n",
       "gender_code    5\n",
       "dest_name      5\n",
       "dest_code      5\n",
       "1960           5\n",
       "1970           5\n",
       "1980           5\n",
       "1990           5\n",
       "2000           5\n",
       "dtype: int64"
      ]
     },
     "execution_count": 838,
     "metadata": {},
     "output_type": "execute_result"
    }
   ],
   "source": [
    "migration_WB.isnull().sum()"
   ]
  },
  {
   "cell_type": "code",
   "execution_count": 837,
   "metadata": {},
   "outputs": [
    {
     "name": "stdout",
     "output_type": "stream",
     "text": [
      "<class 'pandas.core.frame.DataFrame'>\n",
      "RangeIndex: 160781 entries, 0 to 160780\n",
      "Data columns (total 11 columns):\n",
      " #   Column       Non-Null Count   Dtype \n",
      "---  ------       --------------   ----- \n",
      " 0   origin_name  160778 non-null  object\n",
      " 1   origin_code  160776 non-null  object\n",
      " 2   gender       160776 non-null  object\n",
      " 3   gender_code  160776 non-null  object\n",
      " 4   dest_name    160776 non-null  object\n",
      " 5   dest_code    160776 non-null  object\n",
      " 6   1960         160776 non-null  object\n",
      " 7   1970         160776 non-null  object\n",
      " 8   1980         160776 non-null  object\n",
      " 9   1990         160776 non-null  object\n",
      " 10  2000         160776 non-null  object\n",
      "dtypes: object(11)\n",
      "memory usage: 13.5+ MB\n"
     ]
    }
   ],
   "source": [
    "migration_WB.info()"
   ]
  },
  {
   "cell_type": "code",
   "execution_count": 839,
   "metadata": {},
   "outputs": [],
   "source": [
    "# NaN values to 0, strings to integers\n",
    "def cleaning_values(x):   \n",
    "    try:\n",
    "        np.int(x)\n",
    "        x = np.int(x)\n",
    "    except ValueError:\n",
    "        x = 0    #lambda x: True if x % 2 == 0 else False\n",
    "    return x\n",
    "\n",
    "for year in ['1960', '1970','1980', '1990', '2000']:\n",
    "    migration_WB[year] = migration_WB[year].apply(lambda x: cleaning_values(x))"
   ]
  },
  {
   "cell_type": "code",
   "execution_count": 840,
   "metadata": {},
   "outputs": [],
   "source": [
    "# correct some country names\n",
    "migration_WB.replace(['Russian Federation','Hong Kong SAR, China',\"Cote d'Ivoire\",'Korea, Dem. Rep.','Venezuela, RB'],\n",
    "                     ['Russia','Hong Kong',\"Côte d'Ivoire\",'South Korea','Venezuela'],inplace=True)"
   ]
  },
  {
   "cell_type": "code",
   "execution_count": 842,
   "metadata": {},
   "outputs": [
    {
     "data": {
      "text/html": [
       "<div>\n",
       "<style scoped>\n",
       "    .dataframe tbody tr th:only-of-type {\n",
       "        vertical-align: middle;\n",
       "    }\n",
       "\n",
       "    .dataframe tbody tr th {\n",
       "        vertical-align: top;\n",
       "    }\n",
       "\n",
       "    .dataframe thead th {\n",
       "        text-align: right;\n",
       "    }\n",
       "</style>\n",
       "<table border=\"1\" class=\"dataframe\">\n",
       "  <thead>\n",
       "    <tr style=\"text-align: right;\">\n",
       "      <th></th>\n",
       "      <th>code</th>\n",
       "      <th>lat</th>\n",
       "      <th>lon</th>\n",
       "      <th>name</th>\n",
       "    </tr>\n",
       "  </thead>\n",
       "  <tbody>\n",
       "    <tr>\n",
       "      <th>0</th>\n",
       "      <td>AD</td>\n",
       "      <td>42.546245</td>\n",
       "      <td>1.601554</td>\n",
       "      <td>Andorra</td>\n",
       "    </tr>\n",
       "    <tr>\n",
       "      <th>1</th>\n",
       "      <td>AE</td>\n",
       "      <td>23.424076</td>\n",
       "      <td>53.847818</td>\n",
       "      <td>United Arab Emirates</td>\n",
       "    </tr>\n",
       "    <tr>\n",
       "      <th>2</th>\n",
       "      <td>AF</td>\n",
       "      <td>33.939110</td>\n",
       "      <td>67.709953</td>\n",
       "      <td>Afghanistan</td>\n",
       "    </tr>\n",
       "    <tr>\n",
       "      <th>3</th>\n",
       "      <td>AG</td>\n",
       "      <td>17.060816</td>\n",
       "      <td>-61.796428</td>\n",
       "      <td>Antigua and Barbuda</td>\n",
       "    </tr>\n",
       "    <tr>\n",
       "      <th>4</th>\n",
       "      <td>AI</td>\n",
       "      <td>18.220554</td>\n",
       "      <td>-63.068615</td>\n",
       "      <td>Anguilla</td>\n",
       "    </tr>\n",
       "  </tbody>\n",
       "</table>\n",
       "</div>"
      ],
      "text/plain": [
       "  code        lat        lon                  name\n",
       "0   AD  42.546245   1.601554               Andorra\n",
       "1   AE  23.424076  53.847818  United Arab Emirates\n",
       "2   AF  33.939110  67.709953           Afghanistan\n",
       "3   AG  17.060816 -61.796428   Antigua and Barbuda\n",
       "4   AI  18.220554 -63.068615              Anguilla"
      ]
     },
     "execution_count": 842,
     "metadata": {},
     "output_type": "execute_result"
    }
   ],
   "source": [
    "# add geographic coordinates to the origin and destination countries \n",
    "countries_loc = pd.read_csv('countries_lon_lat.csv')[['Unnamed: 1','Unnamed: 2','Unnamed: 3','Unnamed: 4']]\n",
    "countries_loc.columns = ['code', 'lat', 'lon', 'name']\n",
    "countries_loc.head()"
   ]
  },
  {
   "cell_type": "code",
   "execution_count": 844,
   "metadata": {},
   "outputs": [
    {
     "data": {
      "text/html": [
       "<div>\n",
       "<style scoped>\n",
       "    .dataframe tbody tr th:only-of-type {\n",
       "        vertical-align: middle;\n",
       "    }\n",
       "\n",
       "    .dataframe tbody tr th {\n",
       "        vertical-align: top;\n",
       "    }\n",
       "\n",
       "    .dataframe thead th {\n",
       "        text-align: right;\n",
       "    }\n",
       "</style>\n",
       "<table border=\"1\" class=\"dataframe\">\n",
       "  <thead>\n",
       "    <tr style=\"text-align: right;\">\n",
       "      <th></th>\n",
       "      <th>origin_name</th>\n",
       "      <th>origin_code</th>\n",
       "      <th>gender</th>\n",
       "      <th>gender_code</th>\n",
       "      <th>dest_name</th>\n",
       "      <th>dest_code</th>\n",
       "      <th>1960</th>\n",
       "      <th>1970</th>\n",
       "      <th>1980</th>\n",
       "      <th>1990</th>\n",
       "      <th>2000</th>\n",
       "      <th>lat_origin</th>\n",
       "      <th>lon_origin</th>\n",
       "      <th>lat_dest</th>\n",
       "      <th>lon_dest</th>\n",
       "    </tr>\n",
       "  </thead>\n",
       "  <tbody>\n",
       "    <tr>\n",
       "      <th>0</th>\n",
       "      <td>Afghanistan</td>\n",
       "      <td>AFG</td>\n",
       "      <td>Female</td>\n",
       "      <td>FEM</td>\n",
       "      <td>Afghanistan</td>\n",
       "      <td>AFG</td>\n",
       "      <td>0</td>\n",
       "      <td>0</td>\n",
       "      <td>0</td>\n",
       "      <td>0</td>\n",
       "      <td>0</td>\n",
       "      <td>33.93911</td>\n",
       "      <td>67.709953</td>\n",
       "      <td>33.939110</td>\n",
       "      <td>67.709953</td>\n",
       "    </tr>\n",
       "    <tr>\n",
       "      <th>1</th>\n",
       "      <td>Afghanistan</td>\n",
       "      <td>AFG</td>\n",
       "      <td>Female</td>\n",
       "      <td>FEM</td>\n",
       "      <td>Albania</td>\n",
       "      <td>ALB</td>\n",
       "      <td>0</td>\n",
       "      <td>0</td>\n",
       "      <td>0</td>\n",
       "      <td>0</td>\n",
       "      <td>0</td>\n",
       "      <td>33.93911</td>\n",
       "      <td>67.709953</td>\n",
       "      <td>41.153332</td>\n",
       "      <td>20.168331</td>\n",
       "    </tr>\n",
       "    <tr>\n",
       "      <th>2</th>\n",
       "      <td>Afghanistan</td>\n",
       "      <td>AFG</td>\n",
       "      <td>Female</td>\n",
       "      <td>FEM</td>\n",
       "      <td>Algeria</td>\n",
       "      <td>DZA</td>\n",
       "      <td>22</td>\n",
       "      <td>8</td>\n",
       "      <td>6</td>\n",
       "      <td>5</td>\n",
       "      <td>4</td>\n",
       "      <td>33.93911</td>\n",
       "      <td>67.709953</td>\n",
       "      <td>28.033886</td>\n",
       "      <td>1.659626</td>\n",
       "    </tr>\n",
       "    <tr>\n",
       "      <th>3</th>\n",
       "      <td>Afghanistan</td>\n",
       "      <td>AFG</td>\n",
       "      <td>Female</td>\n",
       "      <td>FEM</td>\n",
       "      <td>American Samoa</td>\n",
       "      <td>ASM</td>\n",
       "      <td>0</td>\n",
       "      <td>0</td>\n",
       "      <td>0</td>\n",
       "      <td>0</td>\n",
       "      <td>0</td>\n",
       "      <td>33.93911</td>\n",
       "      <td>67.709953</td>\n",
       "      <td>-14.270972</td>\n",
       "      <td>-170.132217</td>\n",
       "    </tr>\n",
       "    <tr>\n",
       "      <th>4</th>\n",
       "      <td>Afghanistan</td>\n",
       "      <td>AFG</td>\n",
       "      <td>Female</td>\n",
       "      <td>FEM</td>\n",
       "      <td>Andorra</td>\n",
       "      <td>AND</td>\n",
       "      <td>0</td>\n",
       "      <td>0</td>\n",
       "      <td>0</td>\n",
       "      <td>2</td>\n",
       "      <td>3</td>\n",
       "      <td>33.93911</td>\n",
       "      <td>67.709953</td>\n",
       "      <td>42.546245</td>\n",
       "      <td>1.601554</td>\n",
       "    </tr>\n",
       "  </tbody>\n",
       "</table>\n",
       "</div>"
      ],
      "text/plain": [
       "   origin_name origin_code  gender gender_code       dest_name dest_code  \\\n",
       "0  Afghanistan         AFG  Female         FEM     Afghanistan       AFG   \n",
       "1  Afghanistan         AFG  Female         FEM         Albania       ALB   \n",
       "2  Afghanistan         AFG  Female         FEM         Algeria       DZA   \n",
       "3  Afghanistan         AFG  Female         FEM  American Samoa       ASM   \n",
       "4  Afghanistan         AFG  Female         FEM         Andorra       AND   \n",
       "\n",
       "   1960  1970  1980  1990  2000  lat_origin  lon_origin   lat_dest    lon_dest  \n",
       "0     0     0     0     0     0    33.93911   67.709953  33.939110   67.709953  \n",
       "1     0     0     0     0     0    33.93911   67.709953  41.153332   20.168331  \n",
       "2    22     8     6     5     4    33.93911   67.709953  28.033886    1.659626  \n",
       "3     0     0     0     0     0    33.93911   67.709953 -14.270972 -170.132217  \n",
       "4     0     0     0     2     3    33.93911   67.709953  42.546245    1.601554  "
      ]
     },
     "execution_count": 844,
     "metadata": {},
     "output_type": "execute_result"
    }
   ],
   "source": [
    "# merge both dataframes on the origin_name and dest_name\n",
    "migration_ = migration_WB.merge(countries_loc[['lat','lon','name']],how='left',left_on='origin_name',right_on='name').drop('name',axis=1).rename({'lat': 'lat_origin', 'lon': 'lon_origin'}, axis=1)\n",
    "migration = migration_.merge(countries_loc[['lat','lon','name']],how='left',left_on='dest_name',right_on='name').drop('name',axis=1).rename({'lat': 'lat_dest', 'lon': 'lon_dest'}, axis=1)\n",
    "migration.head(5)"
   ]
  },
  {
   "cell_type": "markdown",
   "metadata": {},
   "source": [
    "# Which countries receive more inmigrants and which ones emigrate more?"
   ]
  },
  {
   "cell_type": "code",
   "execution_count": 847,
   "metadata": {},
   "outputs": [
    {
     "data": {
      "text/html": [
       "<div>\n",
       "<style scoped>\n",
       "    .dataframe tbody tr th:only-of-type {\n",
       "        vertical-align: middle;\n",
       "    }\n",
       "\n",
       "    .dataframe tbody tr th {\n",
       "        vertical-align: top;\n",
       "    }\n",
       "\n",
       "    .dataframe thead th {\n",
       "        text-align: right;\n",
       "    }\n",
       "</style>\n",
       "<table border=\"1\" class=\"dataframe\">\n",
       "  <thead>\n",
       "    <tr style=\"text-align: right;\">\n",
       "      <th></th>\n",
       "      <th>origin_name</th>\n",
       "      <th>dest_name</th>\n",
       "      <th>2000</th>\n",
       "      <th>lat_origin</th>\n",
       "      <th>lon_origin</th>\n",
       "      <th>lat_dest</th>\n",
       "      <th>lon_dest</th>\n",
       "      <th>origin_dest</th>\n",
       "      <th>description</th>\n",
       "    </tr>\n",
       "  </thead>\n",
       "  <tbody>\n",
       "    <tr>\n",
       "      <th>92156</th>\n",
       "      <td>Mexico</td>\n",
       "      <td>United States</td>\n",
       "      <td>9367910</td>\n",
       "      <td>23.634501</td>\n",
       "      <td>-102.552784</td>\n",
       "      <td>37.090240</td>\n",
       "      <td>-95.712891</td>\n",
       "      <td>Mexico-&gt;United States</td>\n",
       "      <td>from Mexico to United States: 9367 k people</td>\n",
       "    </tr>\n",
       "    <tr>\n",
       "      <th>11641</th>\n",
       "      <td>Bangladesh</td>\n",
       "      <td>India</td>\n",
       "      <td>3789377</td>\n",
       "      <td>23.684994</td>\n",
       "      <td>90.356331</td>\n",
       "      <td>20.593684</td>\n",
       "      <td>78.962880</td>\n",
       "      <td>Bangladesh-&gt;India</td>\n",
       "      <td>from Bangladesh to India: 3789 k people</td>\n",
       "    </tr>\n",
       "    <tr>\n",
       "      <th>119180</th>\n",
       "      <td>Russia</td>\n",
       "      <td>Ukraine</td>\n",
       "      <td>3613240</td>\n",
       "      <td>61.524010</td>\n",
       "      <td>105.318756</td>\n",
       "      <td>48.379433</td>\n",
       "      <td>31.165580</td>\n",
       "      <td>Russia-&gt;Ukraine</td>\n",
       "      <td>from Russia to Ukraine: 3613 k people</td>\n",
       "    </tr>\n",
       "    <tr>\n",
       "      <th>150320</th>\n",
       "      <td>Ukraine</td>\n",
       "      <td>Russia</td>\n",
       "      <td>3559975</td>\n",
       "      <td>48.379433</td>\n",
       "      <td>31.165580</td>\n",
       "      <td>61.524010</td>\n",
       "      <td>105.318756</td>\n",
       "      <td>Ukraine-&gt;Russia</td>\n",
       "      <td>from Ukraine to Russia: 3559 k people</td>\n",
       "    </tr>\n",
       "    <tr>\n",
       "      <th>71318</th>\n",
       "      <td>Kazakhstan</td>\n",
       "      <td>Russia</td>\n",
       "      <td>2584955</td>\n",
       "      <td>48.019573</td>\n",
       "      <td>66.923684</td>\n",
       "      <td>61.524010</td>\n",
       "      <td>105.318756</td>\n",
       "      <td>Kazakhstan-&gt;Russia</td>\n",
       "      <td>from Kazakhstan to Russia: 2584 k people</td>\n",
       "    </tr>\n",
       "  </tbody>\n",
       "</table>\n",
       "</div>"
      ],
      "text/plain": [
       "       origin_name      dest_name     2000  lat_origin  lon_origin   lat_dest  \\\n",
       "92156       Mexico  United States  9367910   23.634501 -102.552784  37.090240   \n",
       "11641   Bangladesh          India  3789377   23.684994   90.356331  20.593684   \n",
       "119180      Russia        Ukraine  3613240   61.524010  105.318756  48.379433   \n",
       "150320     Ukraine         Russia  3559975   48.379433   31.165580  61.524010   \n",
       "71318   Kazakhstan         Russia  2584955   48.019573   66.923684  61.524010   \n",
       "\n",
       "          lon_dest            origin_dest  \\\n",
       "92156   -95.712891  Mexico->United States   \n",
       "11641    78.962880      Bangladesh->India   \n",
       "119180   31.165580        Russia->Ukraine   \n",
       "150320  105.318756        Ukraine->Russia   \n",
       "71318   105.318756     Kazakhstan->Russia   \n",
       "\n",
       "                                        description  \n",
       "92156   from Mexico to United States: 9367 k people  \n",
       "11641       from Bangladesh to India: 3789 k people  \n",
       "119180        from Russia to Ukraine: 3613 k people  \n",
       "150320        from Ukraine to Russia: 3559 k people  \n",
       "71318      from Kazakhstan to Russia: 2584 k people  "
      ]
     },
     "execution_count": 847,
     "metadata": {},
     "output_type": "execute_result"
    }
   ],
   "source": [
    "# focussed on the 2000s. We dont compare the genres here.\n",
    "\n",
    "# top 15 countries with more emigrants during the 2000s\n",
    "top_emigrants = migration.loc[migration['gender_code'].isin(['TOT'])].groupby('origin_name').sum().sort_values('2000',ascending=False)['2000'].head(15)\n",
    "\n",
    "# top 15 countries with more inmigrants during the 2000s\n",
    "top_inmigrants = migration.loc[migration['gender_code'].isin(['TOT'])].groupby('dest_name').sum().sort_values('2000',ascending=False)['2000'].head(15)\n",
    "\n",
    "# top 20 mayor migration processes during the 2000s\n",
    "largest_migrations = migration.loc[migration['gender_code'].isin(['TOT'])].sort_values('2000',ascending=False)[['origin_name','dest_name','2000','lat_origin','lon_origin','lat_dest','lon_dest']].head(20)\n",
    "\n",
    "#add a column with a description of the migration process: FROM ___ TO ___: __ k people\n",
    "largest_migrations['origin_dest'] = largest_migrations.apply(lambda x: x['origin_name'] + '->'+ x['dest_name'] ,axis=1)\n",
    "largest_migrations['description'] = largest_migrations.apply(lambda x: 'from ' + x['origin_name'] + ' to '+ x['dest_name'] +  ': ' + str( int(x['2000'] / 1000)) + ' k people',axis=1)\n",
    "largest_migrations.head(5)"
   ]
  },
  {
   "cell_type": "code",
   "execution_count": 848,
   "metadata": {},
   "outputs": [
    {
     "data": {
      "image/png": "[encoded data removed]",
      "text/plain": [
       "<Figure size 864x576 with 3 Axes>"
      ]
     },
     "metadata": {
      "image/png": {
       "height": 566,
       "width": 852
      }
     },
     "output_type": "display_data"
    }
   ],
   "source": [
    "fig = plt.figure(figsize=(12,8))\n",
    "\n",
    "ax1 = fig.add_subplot(221)\n",
    "ax1.set_title('Top host countries for inmigrants during the 2000s')\n",
    "a_1 = ax1.barh(y=np.arange(15,0,-1),width=(top_inmigrants.values / 1000000))\n",
    "b_1 = ax1.set_yticks(np.arange(15,0,-1))\n",
    "c_1 = ax1.set_yticklabels(top_inmigrants.index)\n",
    "d_1 = ax1.set_xlabel('People (millions)')\n",
    "\n",
    "ax2 = fig.add_subplot(222)\n",
    "ax2.set_title('Top emigrants nationality during the 2000s')\n",
    "a_2 = ax2.barh(y=np.arange(15,0,-1),width=top_emigrants.values/  1000000)\n",
    "b_2 = ax2.set_yticks(np.arange(15,0,-1))\n",
    "c_2 = ax2.set_yticklabels(top_emigrants.index)\n",
    "d_2 = ax2.set_xlabel('People (millions)')\n",
    "\n",
    "\n",
    "ax3 = fig.add_subplot(212)\n",
    "ax3.barh(y=np.arange(15,0,-1),width=largest_migrations['2000'].values[:15] / 1000000)\n",
    "aa = ax3.set_yticks(np.arange(15,0,-1))\n",
    "bb = ax3.set_yticklabels(largest_migrations['origin_dest'][:15].values)\n",
    "cc = ax3.set_title('Largest migrations during the 2000s',fontsize=14)\n",
    "dd = ax3.set_xlabel('People (millions)')\n",
    "\n",
    "fig.tight_layout()"
   ]
  },
  {
   "cell_type": "code",
   "execution_count": 721,
   "metadata": {},
   "outputs": [
    {
     "data": {
      "application/vnd.plotly.v1+json": {
       "config": {
        "plotlyServerURL": "https://plot.ly"
       },
       "data": [
        {
         "hoverinfo": "skip",
         "locationmode": "country names",
         "locations": [
          "Mexico",
          "Bangladesh",
          "Russia",
          "Ukraine",
          "Kazakhstan",
          "India",
          "China",
          "Turkey",
          "Poland",
          "Russia",
          "Philippines",
          "Puerto Rico",
          "Pakistan",
          "Burkina Faso",
          "Germany",
          "Algeria",
          "India",
          "Vietnam",
          "United Kingdom",
          "China",
          "United States",
          "India",
          "Ukraine",
          "Russia",
          "Russia",
          "Pakistan",
          "Hong Kong",
          "Germany",
          "Germany",
          "Kazakhstan",
          "United States",
          "United States",
          "India",
          "Côte d'Ivoire",
          "United States",
          "France",
          "United States",
          "United States",
          "Australia",
          "United States"
         ],
         "marker": {
          "color": "rgb(255, 0, 0)",
          "line": {
           "color": "rgba(68, 68, 68, 0)",
           "width": 3
          },
          "size": 7
         },
         "mode": "markers",
         "type": "scattergeo"
        },
        {
         "hoverinfo": "text",
         "lat": [
          23.634501,
          37.09024
         ],
         "line": {
          "color": "red",
          "width": 20
         },
         "locationmode": "country names",
         "lon": [
          -102.552784,
          -95.712891
         ],
         "mode": "lines",
         "opacity": 0.6,
         "text": "from Mexico to United States 9367 k people",
         "type": "scattergeo"
        },
        {
         "hoverinfo": "text",
         "lat": [
          23.684994,
          20.593684
         ],
         "line": {
          "color": "red",
          "width": 8.090122556685536
         },
         "locationmode": "country names",
         "lon": [
          90.35633100000001,
          78.96288
         ],
         "mode": "lines",
         "opacity": 0.6,
         "text": "from Bangladesh to India 3789 k people",
         "type": "scattergeo"
        },
        {
         "hoverinfo": "text",
         "lat": [
          61.52401,
          48.379433
         ],
         "line": {
          "color": "red",
          "width": 7.714079234322276
         },
         "locationmode": "country names",
         "lon": [
          105.31875600000001,
          31.16558
         ],
         "mode": "lines",
         "opacity": 0.6,
         "text": "from Russia to Ukraine 3613 k people",
         "type": "scattergeo"
        },
        {
         "hoverinfo": "text",
         "lat": [
          48.379433,
          61.52401
         ],
         "line": {
          "color": "red",
          "width": 7.60036123318862
         },
         "locationmode": "country names",
         "lon": [
          31.16558,
          105.31875600000001
         ],
         "mode": "lines",
         "opacity": 0.6,
         "text": "from Ukraine to Russia 3559 k people",
         "type": "scattergeo"
        },
        {
         "hoverinfo": "text",
         "lat": [
          48.019573,
          61.52401
         ],
         "line": {
          "color": "red",
          "width": 5.518744309029442
         },
         "locationmode": "country names",
         "lon": [
          66.923684,
          105.31875600000001
         ],
         "mode": "lines",
         "opacity": 0.6,
         "text": "from Kazakhstan to Russia 2584 k people",
         "type": "scattergeo"
        },
        {
         "hoverinfo": "text",
         "lat": [
          20.593684,
          30.375321000000003
         ],
         "line": {
          "color": "red",
          "width": 5.364923446104841
         },
         "locationmode": "country names",
         "lon": [
          78.96288,
          69.345116
         ],
         "mode": "lines",
         "opacity": 0.6,
         "text": "from India to Pakistan 2512 k people",
         "type": "scattergeo"
        },
        {
         "hoverinfo": "text",
         "lat": [
          35.86166,
          22.396428
         ],
         "line": {
          "color": "red",
          "width": 4.6216157072388615
         },
         "locationmode": "country names",
         "lon": [
          104.195397,
          114.10949699999999
         ],
         "mode": "lines",
         "opacity": 0.6,
         "text": "from China to Hong Kong 2164 k people",
         "type": "scattergeo"
        },
        {
         "hoverinfo": "text",
         "lat": [
          38.963745,
          51.165690999999995
         ],
         "line": {
          "color": "red",
          "width": 4.289065543968719
         },
         "locationmode": "country names",
         "lon": [
          35.243322,
          10.451526
         ],
         "mode": "lines",
         "opacity": 0.6,
         "text": "from Turkey to Germany 2008 k people",
         "type": "scattergeo"
        },
        {
         "hoverinfo": "text",
         "lat": [
          51.919438,
          51.165690999999995
         ],
         "line": {
          "color": "red",
          "width": 4.269842472867481
         },
         "locationmode": "country names",
         "lon": [
          19.145135999999997,
          10.451526
         ],
         "mode": "lines",
         "opacity": 0.6,
         "text": "from Poland to Germany 1999 k people",
         "type": "scattergeo"
        },
        {
         "hoverinfo": "text",
         "lat": [
          61.52401,
          48.019573
         ],
         "line": {
          "color": "red",
          "width": 4.124525107521315
         },
         "locationmode": "country names",
         "lon": [
          105.31875600000001,
          66.923684
         ],
         "mode": "lines",
         "opacity": 0.6,
         "text": "from Russia to Kazakhstan 1931 k people",
         "type": "scattergeo"
        },
        {
         "hoverinfo": "text",
         "lat": [
          12.879721,
          37.09024
         ],
         "line": {
          "color": "red",
          "width": 3.214847281837678
         },
         "locationmode": "country names",
         "lon": [
          121.77401699999999,
          -95.712891
         ],
         "mode": "lines",
         "opacity": 0.6,
         "text": "from Philippines to United States 1505 k people",
         "type": "scattergeo"
        },
        {
         "hoverinfo": "text",
         "lat": [
          18.220833,
          37.09024
         ],
         "line": {
          "color": "red",
          "width": 3.1065520484291587
         },
         "locationmode": "country names",
         "lon": [
          -66.590149,
          -95.712891
         ],
         "mode": "lines",
         "opacity": 0.6,
         "text": "from Puerto Rico to United States 1455 k people",
         "type": "scattergeo"
        },
        {
         "hoverinfo": "text",
         "lat": [
          30.375321000000003,
          20.593684
         ],
         "line": {
          "color": "red",
          "width": 2.8430226165708254
         },
         "locationmode": "country names",
         "lon": [
          69.345116,
          78.96288
         ],
         "mode": "lines",
         "opacity": 0.6,
         "text": "from Pakistan to India 1331 k people",
         "type": "scattergeo"
        },
        {
         "hoverinfo": "text",
         "lat": [
          12.238333,
          7.539989
         ],
         "line": {
          "color": "red",
          "width": 2.673164024846524
         },
         "locationmode": "country names",
         "lon": [
          -1.561593,
          -5.54708
         ],
         "mode": "lines",
         "opacity": 0.6,
         "text": "from Burkina Faso to Côte d'Ivoire 1252 k people",
         "type": "scattergeo"
        },
        {
         "hoverinfo": "text",
         "lat": [
          51.165690999999995,
          37.09024
         ],
         "line": {
          "color": "red",
          "width": 2.670424886660952
         },
         "locationmode": "country names",
         "lon": [
          10.451526,
          -95.712891
         ],
         "mode": "lines",
         "opacity": 0.6,
         "text": "from Germany to United States 1250 k people",
         "type": "scattergeo"
        },
        {
         "hoverinfo": "text",
         "lat": [
          28.033886,
          46.227638
         ],
         "line": {
          "color": "red",
          "width": 2.256928172879543
         },
         "locationmode": "country names",
         "lon": [
          1.6596259999999998,
          2.213749
         ],
         "mode": "lines",
         "opacity": 0.6,
         "text": "from Algeria to France 1057 k people",
         "type": "scattergeo"
        },
        {
         "hoverinfo": "text",
         "lat": [
          20.593684,
          37.09024
         ],
         "line": {
          "color": "red",
          "width": 2.2231639714728257
         },
         "locationmode": "country names",
         "lon": [
          78.96288,
          -95.712891
         ],
         "mode": "lines",
         "opacity": 0.6,
         "text": "from India to United States 1041 k people",
         "type": "scattergeo"
        },
        {
         "hoverinfo": "text",
         "lat": [
          14.058323999999999,
          37.09024
         ],
         "line": {
          "color": "red",
          "width": 2.1956957314918695
         },
         "locationmode": "country names",
         "lon": [
          108.277199,
          -95.712891
         ],
         "mode": "lines",
         "opacity": 0.6,
         "text": "from Vietnam to United States 1028 k people",
         "type": "scattergeo"
        },
        {
         "hoverinfo": "text",
         "lat": [
          55.378051,
          -25.274398
         ],
         "line": {
          "color": "red",
          "width": 2.191637195489709
         },
         "locationmode": "country names",
         "lon": [
          -3.435973,
          133.775136
         ],
         "mode": "lines",
         "opacity": 0.6,
         "text": "from United Kingdom to Australia 1026 k people",
         "type": "scattergeo"
        },
        {
         "hoverinfo": "text",
         "lat": [
          35.86166,
          37.09024
         ],
         "line": {
          "color": "red",
          "width": 2.1699866885996983
         },
         "locationmode": "country names",
         "lon": [
          104.195397,
          -95.712891
         ],
         "mode": "lines",
         "opacity": 0.6,
         "text": "from China to United States 1016 k people",
         "type": "scattergeo"
        }
       ],
       "layout": {
        "font": {
         "color": "RebeccaPurple",
         "family": "Courier New, monospace",
         "size": 18
        },
        "geo": {
         "countrycolor": "RebeccaPurple",
         "landcolor": "rgb(243, 243, 243)",
         "resolution": 50,
         "scope": "world",
         "showcountries": false,
         "showland": true,
         "visible": true
        },
        "height": 600,
        "showlegend": false,
        "template": {
         "data": {
          "bar": [
           {
            "error_x": {
             "color": "#2a3f5f"
            },
            "error_y": {
             "color": "#2a3f5f"
            },
            "marker": {
             "line": {
              "color": "#E5ECF6",
              "width": 0.5
             },
             "pattern": {
              "fillmode": "overlay",
              "size": 10,
              "solidity": 0.2
             }
            },
            "type": "bar"
           }
          ],
          "barpolar": [
           {
            "marker": {
             "line": {
              "color": "#E5ECF6",
              "width": 0.5
             },
             "pattern": {
              "fillmode": "overlay",
              "size": 10,
              "solidity": 0.2
             }
            },
            "type": "barpolar"
           }
          ],
          "carpet": [
           {
            "aaxis": {
             "endlinecolor": "#2a3f5f",
             "gridcolor": "white",
             "linecolor": "white",
             "minorgridcolor": "white",
             "startlinecolor": "#2a3f5f"
            },
            "baxis": {
             "endlinecolor": "#2a3f5f",
             "gridcolor": "white",
             "linecolor": "white",
             "minorgridcolor": "white",
             "startlinecolor": "#2a3f5f"
            },
            "type": "carpet"
           }
          ],
          "choropleth": [
           {
            "colorbar": {
             "outlinewidth": 0,
             "ticks": ""
            },
            "type": "choropleth"
           }
          ],
          "contour": [
           {
            "colorbar": {
             "outlinewidth": 0,
             "ticks": ""
            },
            "colorscale": [
             [
              0,
              "#0d0887"
             ],
             [
              0.1111111111111111,
              "#46039f"
             ],
             [
              0.2222222222222222,
              "#7201a8"
             ],
             [
              0.3333333333333333,
              "#9c179e"
             ],
             [
              0.4444444444444444,
              "#bd3786"
             ],
             [
              0.5555555555555556,
              "#d8576b"
             ],
             [
              0.6666666666666666,
              "#ed7953"
             ],
             [
              0.7777777777777778,
              "#fb9f3a"
             ],
             [
              0.8888888888888888,
              "#fdca26"
             ],
             [
              1,
              "#f0f921"
             ]
            ],
            "type": "contour"
           }
          ],
          "contourcarpet": [
           {
            "colorbar": {
             "outlinewidth": 0,
             "ticks": ""
            },
            "type": "contourcarpet"
           }
          ],
          "heatmap": [
           {
            "colorbar": {
             "outlinewidth": 0,
             "ticks": ""
            },
            "colorscale": [
             [
              0,
              "#0d0887"
             ],
             [
              0.1111111111111111,
              "#46039f"
             ],
             [
              0.2222222222222222,
              "#7201a8"
             ],
             [
              0.3333333333333333,
              "#9c179e"
             ],
             [
              0.4444444444444444,
              "#bd3786"
             ],
             [
              0.5555555555555556,
              "#d8576b"
             ],
             [
              0.6666666666666666,
              "#ed7953"
             ],
             [
              0.7777777777777778,
              "#fb9f3a"
             ],
             [
              0.8888888888888888,
              "#fdca26"
             ],
             [
              1,
              "#f0f921"
             ]
            ],
            "type": "heatmap"
           }
          ],
          "heatmapgl": [
           {
            "colorbar": {
             "outlinewidth": 0,
             "ticks": ""
            },
            "colorscale": [
             [
              0,
              "#0d0887"
             ],
             [
              0.1111111111111111,
              "#46039f"
             ],
             [
              0.2222222222222222,
              "#7201a8"
             ],
             [
              0.3333333333333333,
              "#9c179e"
             ],
             [
              0.4444444444444444,
              "#bd3786"
             ],
             [
              0.5555555555555556,
              "#d8576b"
             ],
             [
              0.6666666666666666,
              "#ed7953"
             ],
             [
              0.7777777777777778,
              "#fb9f3a"
             ],
             [
              0.8888888888888888,
              "#fdca26"
             ],
             [
              1,
              "#f0f921"
             ]
            ],
            "type": "heatmapgl"
           }
          ],
          "histogram": [
           {
            "marker": {
             "pattern": {
              "fillmode": "overlay",
              "size": 10,
              "solidity": 0.2
             }
            },
            "type": "histogram"
           }
          ],
          "histogram2d": [
           {
            "colorbar": {
             "outlinewidth": 0,
             "ticks": ""
            },
            "colorscale": [
             [
              0,
              "#0d0887"
             ],
             [
              0.1111111111111111,
              "#46039f"
             ],
             [
              0.2222222222222222,
              "#7201a8"
             ],
             [
              0.3333333333333333,
              "#9c179e"
             ],
             [
              0.4444444444444444,
              "#bd3786"
             ],
             [
              0.5555555555555556,
              "#d8576b"
             ],
             [
              0.6666666666666666,
              "#ed7953"
             ],
             [
              0.7777777777777778,
              "#fb9f3a"
             ],
             [
              0.8888888888888888,
              "#fdca26"
             ],
             [
              1,
              "#f0f921"
             ]
            ],
            "type": "histogram2d"
           }
          ],
          "histogram2dcontour": [
           {
            "colorbar": {
             "outlinewidth": 0,
             "ticks": ""
            },
            "colorscale": [
             [
              0,
              "#0d0887"
             ],
             [
              0.1111111111111111,
              "#46039f"
             ],
             [
              0.2222222222222222,
              "#7201a8"
             ],
             [
              0.3333333333333333,
              "#9c179e"
             ],
             [
              0.4444444444444444,
              "#bd3786"
             ],
             [
              0.5555555555555556,
              "#d8576b"
             ],
             [
              0.6666666666666666,
              "#ed7953"
             ],
             [
              0.7777777777777778,
              "#fb9f3a"
             ],
             [
              0.8888888888888888,
              "#fdca26"
             ],
             [
              1,
              "#f0f921"
             ]
            ],
            "type": "histogram2dcontour"
           }
          ],
          "mesh3d": [
           {
            "colorbar": {
             "outlinewidth": 0,
             "ticks": ""
            },
            "type": "mesh3d"
           }
          ],
          "parcoords": [
           {
            "line": {
             "colorbar": {
              "outlinewidth": 0,
              "ticks": ""
             }
            },
            "type": "parcoords"
           }
          ],
          "pie": [
           {
            "automargin": true,
            "type": "pie"
           }
          ],
          "scatter": [
           {
            "marker": {
             "colorbar": {
              "outlinewidth": 0,
              "ticks": ""
             }
            },
            "type": "scatter"
           }
          ],
          "scatter3d": [
           {
            "line": {
             "colorbar": {
              "outlinewidth": 0,
              "ticks": ""
             }
            },
            "marker": {
             "colorbar": {
              "outlinewidth": 0,
              "ticks": ""
             }
            },
            "type": "scatter3d"
           }
          ],
          "scattercarpet": [
           {
            "marker": {
             "colorbar": {
              "outlinewidth": 0,
              "ticks": ""
             }
            },
            "type": "scattercarpet"
           }
          ],
          "scattergeo": [
           {
            "marker": {
             "colorbar": {
              "outlinewidth": 0,
              "ticks": ""
             }
            },
            "type": "scattergeo"
           }
          ],
          "scattergl": [
           {
            "marker": {
             "colorbar": {
              "outlinewidth": 0,
              "ticks": ""
             }
            },
            "type": "scattergl"
           }
          ],
          "scattermapbox": [
           {
            "marker": {
             "colorbar": {
              "outlinewidth": 0,
              "ticks": ""
             }
            },
            "type": "scattermapbox"
           }
          ],
          "scatterpolar": [
           {
            "marker": {
             "colorbar": {
              "outlinewidth": 0,
              "ticks": ""
             }
            },
            "type": "scatterpolar"
           }
          ],
          "scatterpolargl": [
           {
            "marker": {
             "colorbar": {
              "outlinewidth": 0,
              "ticks": ""
             }
            },
            "type": "scatterpolargl"
           }
          ],
          "scatterternary": [
           {
            "marker": {
             "colorbar": {
              "outlinewidth": 0,
              "ticks": ""
             }
            },
            "type": "scatterternary"
           }
          ],
          "surface": [
           {
            "colorbar": {
             "outlinewidth": 0,
             "ticks": ""
            },
            "colorscale": [
             [
              0,
              "#0d0887"
             ],
             [
              0.1111111111111111,
              "#46039f"
             ],
             [
              0.2222222222222222,
              "#7201a8"
             ],
             [
              0.3333333333333333,
              "#9c179e"
             ],
             [
              0.4444444444444444,
              "#bd3786"
             ],
             [
              0.5555555555555556,
              "#d8576b"
             ],
             [
              0.6666666666666666,
              "#ed7953"
             ],
             [
              0.7777777777777778,
              "#fb9f3a"
             ],
             [
              0.8888888888888888,
              "#fdca26"
             ],
             [
              1,
              "#f0f921"
             ]
            ],
            "type": "surface"
           }
          ],
          "table": [
           {
            "cells": {
             "fill": {
              "color": "#EBF0F8"
             },
             "line": {
              "color": "white"
             }
            },
            "header": {
             "fill": {
              "color": "#C8D4E3"
             },
             "line": {
              "color": "white"
             }
            },
            "type": "table"
           }
          ]
         },
         "layout": {
          "annotationdefaults": {
           "arrowcolor": "#2a3f5f",
           "arrowhead": 0,
           "arrowwidth": 1
          },
          "autotypenumbers": "strict",
          "coloraxis": {
           "colorbar": {
            "outlinewidth": 0,
            "ticks": ""
           }
          },
          "colorscale": {
           "diverging": [
            [
             0,
             "#8e0152"
            ],
            [
             0.1,
             "#c51b7d"
            ],
            [
             0.2,
             "#de77ae"
            ],
            [
             0.3,
             "#f1b6da"
            ],
            [
             0.4,
             "#fde0ef"
            ],
            [
             0.5,
             "#f7f7f7"
            ],
            [
             0.6,
             "#e6f5d0"
            ],
            [
             0.7,
             "#b8e186"
            ],
            [
             0.8,
             "#7fbc41"
            ],
            [
             0.9,
             "#4d9221"
            ],
            [
             1,
             "#276419"
            ]
           ],
           "sequential": [
            [
             0,
             "#0d0887"
            ],
            [
             0.1111111111111111,
             "#46039f"
            ],
            [
             0.2222222222222222,
             "#7201a8"
            ],
            [
             0.3333333333333333,
             "#9c179e"
            ],
            [
             0.4444444444444444,
             "#bd3786"
            ],
            [
             0.5555555555555556,
             "#d8576b"
            ],
            [
             0.6666666666666666,
             "#ed7953"
            ],
            [
             0.7777777777777778,
             "#fb9f3a"
            ],
            [
             0.8888888888888888,
             "#fdca26"
            ],
            [
             1,
             "#f0f921"
            ]
           ],
           "sequentialminus": [
            [
             0,
             "#0d0887"
            ],
            [
             0.1111111111111111,
             "#46039f"
            ],
            [
             0.2222222222222222,
             "#7201a8"
            ],
            [
             0.3333333333333333,
             "#9c179e"
            ],
            [
             0.4444444444444444,
             "#bd3786"
            ],
            [
             0.5555555555555556,
             "#d8576b"
            ],
            [
             0.6666666666666666,
             "#ed7953"
            ],
            [
             0.7777777777777778,
             "#fb9f3a"
            ],
            [
             0.8888888888888888,
             "#fdca26"
            ],
            [
             1,
             "#f0f921"
            ]
           ]
          },
          "colorway": [
           "#636efa",
           "#EF553B",
           "#00cc96",
           "#ab63fa",
           "#FFA15A",
           "#19d3f3",
           "#FF6692",
           "#B6E880",
           "#FF97FF",
           "#FECB52"
          ],
          "font": {
           "color": "#2a3f5f"
          },
          "geo": {
           "bgcolor": "white",
           "lakecolor": "white",
           "landcolor": "#E5ECF6",
           "showlakes": true,
           "showland": true,
           "subunitcolor": "white"
          },
          "hoverlabel": {
           "align": "left"
          },
          "hovermode": "closest",
          "mapbox": {
           "style": "light"
          },
          "paper_bgcolor": "white",
          "plot_bgcolor": "#E5ECF6",
          "polar": {
           "angularaxis": {
            "gridcolor": "white",
            "linecolor": "white",
            "ticks": ""
           },
           "bgcolor": "#E5ECF6",
           "radialaxis": {
            "gridcolor": "white",
            "linecolor": "white",
            "ticks": ""
           }
          },
          "scene": {
           "xaxis": {
            "backgroundcolor": "#E5ECF6",
            "gridcolor": "white",
            "gridwidth": 2,
            "linecolor": "white",
            "showbackground": true,
            "ticks": "",
            "zerolinecolor": "white"
           },
           "yaxis": {
            "backgroundcolor": "#E5ECF6",
            "gridcolor": "white",
            "gridwidth": 2,
            "linecolor": "white",
            "showbackground": true,
            "ticks": "",
            "zerolinecolor": "white"
           },
           "zaxis": {
            "backgroundcolor": "#E5ECF6",
            "gridcolor": "white",
            "gridwidth": 2,
            "linecolor": "white",
            "showbackground": true,
            "ticks": "",
            "zerolinecolor": "white"
           }
          },
          "shapedefaults": {
           "line": {
            "color": "#2a3f5f"
           }
          },
          "ternary": {
           "aaxis": {
            "gridcolor": "white",
            "linecolor": "white",
            "ticks": ""
           },
           "baxis": {
            "gridcolor": "white",
            "linecolor": "white",
            "ticks": ""
           },
           "bgcolor": "#E5ECF6",
           "caxis": {
            "gridcolor": "white",
            "linecolor": "white",
            "ticks": ""
           }
          },
          "title": {
           "x": 0.05
          },
          "xaxis": {
           "automargin": true,
           "gridcolor": "white",
           "linecolor": "white",
           "ticks": "",
           "title": {
            "standoff": 15
           },
           "zerolinecolor": "white",
           "zerolinewidth": 2
          },
          "yaxis": {
           "automargin": true,
           "gridcolor": "white",
           "linecolor": "white",
           "ticks": "",
           "title": {
            "standoff": 15
           },
           "zerolinecolor": "white",
           "zerolinewidth": 2
          }
         }
        },
        "title": {
         "text": "Main migration processes during the 2000s",
         "x": 0.5,
         "xanchor": "center",
         "y": 0.86,
         "yanchor": "top"
        }
       }
      },
      "text/html": [
       "<div>                            <div id=\"e96116bd-e339-42e4-a604-fcf939de9af2\" class=\"plotly-graph-div\" style=\"height:600px; width:100%;\"></div>            <script type=\"text/javascript\">                require([\"plotly\"], function(Plotly) {                    window.PLOTLYENV=window.PLOTLYENV || {};                                    if (document.getElementById(\"e96116bd-e339-42e4-a604-fcf939de9af2\")) {                    Plotly.newPlot(                        \"e96116bd-e339-42e4-a604-fcf939de9af2\",                        [{\"hoverinfo\":\"skip\",\"locationmode\":\"country names\",\"locations\":[\"Mexico\",\"Bangladesh\",\"Russia\",\"Ukraine\",\"Kazakhstan\",\"India\",\"China\",\"Turkey\",\"Poland\",\"Russia\",\"Philippines\",\"Puerto Rico\",\"Pakistan\",\"Burkina Faso\",\"Germany\",\"Algeria\",\"India\",\"Vietnam\",\"United Kingdom\",\"China\",\"United States\",\"India\",\"Ukraine\",\"Russia\",\"Russia\",\"Pakistan\",\"Hong Kong\",\"Germany\",\"Germany\",\"Kazakhstan\",\"United States\",\"United States\",\"India\",\"C\\u00f4te d'Ivoire\",\"United States\",\"France\",\"United States\",\"United States\",\"Australia\",\"United States\"],\"marker\":{\"color\":\"rgb(255, 0, 0)\",\"line\":{\"color\":\"rgba(68, 68, 68, 0)\",\"width\":3},\"size\":7},\"mode\":\"markers\",\"type\":\"scattergeo\"},{\"hoverinfo\":\"text\",\"lat\":[23.634501,37.09024],\"line\":{\"color\":\"red\",\"width\":20.0},\"locationmode\":\"country names\",\"lon\":[-102.552784,-95.712891],\"mode\":\"lines\",\"opacity\":0.6,\"text\":\"from Mexico to United States 9367 k people\",\"type\":\"scattergeo\"},{\"hoverinfo\":\"text\",\"lat\":[23.684994,20.593684],\"line\":{\"color\":\"red\",\"width\":8.090122556685536},\"locationmode\":\"country names\",\"lon\":[90.35633100000001,78.96288],\"mode\":\"lines\",\"opacity\":0.6,\"text\":\"from Bangladesh to India 3789 k people\",\"type\":\"scattergeo\"},{\"hoverinfo\":\"text\",\"lat\":[61.52401,48.379433],\"line\":{\"color\":\"red\",\"width\":7.714079234322276},\"locationmode\":\"country names\",\"lon\":[105.31875600000001,31.16558],\"mode\":\"lines\",\"opacity\":0.6,\"text\":\"from Russia to Ukraine 3613 k people\",\"type\":\"scattergeo\"},{\"hoverinfo\":\"text\",\"lat\":[48.379433,61.52401],\"line\":{\"color\":\"red\",\"width\":7.60036123318862},\"locationmode\":\"country names\",\"lon\":[31.16558,105.31875600000001],\"mode\":\"lines\",\"opacity\":0.6,\"text\":\"from Ukraine to Russia 3559 k people\",\"type\":\"scattergeo\"},{\"hoverinfo\":\"text\",\"lat\":[48.019573,61.52401],\"line\":{\"color\":\"red\",\"width\":5.518744309029442},\"locationmode\":\"country names\",\"lon\":[66.923684,105.31875600000001],\"mode\":\"lines\",\"opacity\":0.6,\"text\":\"from Kazakhstan to Russia 2584 k people\",\"type\":\"scattergeo\"},{\"hoverinfo\":\"text\",\"lat\":[20.593684,30.375321000000003],\"line\":{\"color\":\"red\",\"width\":5.364923446104841},\"locationmode\":\"country names\",\"lon\":[78.96288,69.345116],\"mode\":\"lines\",\"opacity\":0.6,\"text\":\"from India to Pakistan 2512 k people\",\"type\":\"scattergeo\"},{\"hoverinfo\":\"text\",\"lat\":[35.86166,22.396428],\"line\":{\"color\":\"red\",\"width\":4.6216157072388615},\"locationmode\":\"country names\",\"lon\":[104.195397,114.10949699999999],\"mode\":\"lines\",\"opacity\":0.6,\"text\":\"from China to Hong Kong 2164 k people\",\"type\":\"scattergeo\"},{\"hoverinfo\":\"text\",\"lat\":[38.963745,51.165690999999995],\"line\":{\"color\":\"red\",\"width\":4.289065543968719},\"locationmode\":\"country names\",\"lon\":[35.243322,10.451526],\"mode\":\"lines\",\"opacity\":0.6,\"text\":\"from Turkey to Germany 2008 k people\",\"type\":\"scattergeo\"},{\"hoverinfo\":\"text\",\"lat\":[51.919438,51.165690999999995],\"line\":{\"color\":\"red\",\"width\":4.269842472867481},\"locationmode\":\"country names\",\"lon\":[19.145135999999997,10.451526],\"mode\":\"lines\",\"opacity\":0.6,\"text\":\"from Poland to Germany 1999 k people\",\"type\":\"scattergeo\"},{\"hoverinfo\":\"text\",\"lat\":[61.52401,48.019573],\"line\":{\"color\":\"red\",\"width\":4.124525107521315},\"locationmode\":\"country names\",\"lon\":[105.31875600000001,66.923684],\"mode\":\"lines\",\"opacity\":0.6,\"text\":\"from Russia to Kazakhstan 1931 k people\",\"type\":\"scattergeo\"},{\"hoverinfo\":\"text\",\"lat\":[12.879721,37.09024],\"line\":{\"color\":\"red\",\"width\":3.214847281837678},\"locationmode\":\"country names\",\"lon\":[121.77401699999999,-95.712891],\"mode\":\"lines\",\"opacity\":0.6,\"text\":\"from Philippines to United States 1505 k people\",\"type\":\"scattergeo\"},{\"hoverinfo\":\"text\",\"lat\":[18.220833,37.09024],\"line\":{\"color\":\"red\",\"width\":3.1065520484291587},\"locationmode\":\"country names\",\"lon\":[-66.590149,-95.712891],\"mode\":\"lines\",\"opacity\":0.6,\"text\":\"from Puerto Rico to United States 1455 k people\",\"type\":\"scattergeo\"},{\"hoverinfo\":\"text\",\"lat\":[30.375321000000003,20.593684],\"line\":{\"color\":\"red\",\"width\":2.8430226165708254},\"locationmode\":\"country names\",\"lon\":[69.345116,78.96288],\"mode\":\"lines\",\"opacity\":0.6,\"text\":\"from Pakistan to India 1331 k people\",\"type\":\"scattergeo\"},{\"hoverinfo\":\"text\",\"lat\":[12.238333,7.539989],\"line\":{\"color\":\"red\",\"width\":2.673164024846524},\"locationmode\":\"country names\",\"lon\":[-1.561593,-5.54708],\"mode\":\"lines\",\"opacity\":0.6,\"text\":\"from Burkina Faso to C\\u00f4te d'Ivoire 1252 k people\",\"type\":\"scattergeo\"},{\"hoverinfo\":\"text\",\"lat\":[51.165690999999995,37.09024],\"line\":{\"color\":\"red\",\"width\":2.670424886660952},\"locationmode\":\"country names\",\"lon\":[10.451526,-95.712891],\"mode\":\"lines\",\"opacity\":0.6,\"text\":\"from Germany to United States 1250 k people\",\"type\":\"scattergeo\"},{\"hoverinfo\":\"text\",\"lat\":[28.033886,46.227638],\"line\":{\"color\":\"red\",\"width\":2.256928172879543},\"locationmode\":\"country names\",\"lon\":[1.6596259999999998,2.213749],\"mode\":\"lines\",\"opacity\":0.6,\"text\":\"from Algeria to France 1057 k people\",\"type\":\"scattergeo\"},{\"hoverinfo\":\"text\",\"lat\":[20.593684,37.09024],\"line\":{\"color\":\"red\",\"width\":2.2231639714728257},\"locationmode\":\"country names\",\"lon\":[78.96288,-95.712891],\"mode\":\"lines\",\"opacity\":0.6,\"text\":\"from India to United States 1041 k people\",\"type\":\"scattergeo\"},{\"hoverinfo\":\"text\",\"lat\":[14.058323999999999,37.09024],\"line\":{\"color\":\"red\",\"width\":2.1956957314918695},\"locationmode\":\"country names\",\"lon\":[108.277199,-95.712891],\"mode\":\"lines\",\"opacity\":0.6,\"text\":\"from Vietnam to United States 1028 k people\",\"type\":\"scattergeo\"},{\"hoverinfo\":\"text\",\"lat\":[55.378051,-25.274398],\"line\":{\"color\":\"red\",\"width\":2.191637195489709},\"locationmode\":\"country names\",\"lon\":[-3.435973,133.775136],\"mode\":\"lines\",\"opacity\":0.6,\"text\":\"from United Kingdom to Australia 1026 k people\",\"type\":\"scattergeo\"},{\"hoverinfo\":\"text\",\"lat\":[35.86166,37.09024],\"line\":{\"color\":\"red\",\"width\":2.1699866885996983},\"locationmode\":\"country names\",\"lon\":[104.195397,-95.712891],\"mode\":\"lines\",\"opacity\":0.6,\"text\":\"from China to United States 1016 k people\",\"type\":\"scattergeo\"}],                        {\"font\":{\"color\":\"RebeccaPurple\",\"family\":\"Courier New, monospace\",\"size\":18},\"geo\":{\"countrycolor\":\"RebeccaPurple\",\"landcolor\":\"rgb(243, 243, 243)\",\"resolution\":50,\"scope\":\"world\",\"showcountries\":false,\"showland\":true,\"visible\":true},\"height\":600,\"showlegend\":false,\"template\":{\"data\":{\"bar\":[{\"error_x\":{\"color\":\"#2a3f5f\"},\"error_y\":{\"color\":\"#2a3f5f\"},\"marker\":{\"line\":{\"color\":\"#E5ECF6\",\"width\":0.5},\"pattern\":{\"fillmode\":\"overlay\",\"size\":10,\"solidity\":0.2}},\"type\":\"bar\"}],\"barpolar\":[{\"marker\":{\"line\":{\"color\":\"#E5ECF6\",\"width\":0.5},\"pattern\":{\"fillmode\":\"overlay\",\"size\":10,\"solidity\":0.2}},\"type\":\"barpolar\"}],\"carpet\":[{\"aaxis\":{\"endlinecolor\":\"#2a3f5f\",\"gridcolor\":\"white\",\"linecolor\":\"white\",\"minorgridcolor\":\"white\",\"startlinecolor\":\"#2a3f5f\"},\"baxis\":{\"endlinecolor\":\"#2a3f5f\",\"gridcolor\":\"white\",\"linecolor\":\"white\",\"minorgridcolor\":\"white\",\"startlinecolor\":\"#2a3f5f\"},\"type\":\"carpet\"}],\"choropleth\":[{\"colorbar\":{\"outlinewidth\":0,\"ticks\":\"\"},\"type\":\"choropleth\"}],\"contour\":[{\"colorbar\":{\"outlinewidth\":0,\"ticks\":\"\"},\"colorscale\":[[0.0,\"#0d0887\"],[0.1111111111111111,\"#46039f\"],[0.2222222222222222,\"#7201a8\"],[0.3333333333333333,\"#9c179e\"],[0.4444444444444444,\"#bd3786\"],[0.5555555555555556,\"#d8576b\"],[0.6666666666666666,\"#ed7953\"],[0.7777777777777778,\"#fb9f3a\"],[0.8888888888888888,\"#fdca26\"],[1.0,\"#f0f921\"]],\"type\":\"contour\"}],\"contourcarpet\":[{\"colorbar\":{\"outlinewidth\":0,\"ticks\":\"\"},\"type\":\"contourcarpet\"}],\"heatmap\":[{\"colorbar\":{\"outlinewidth\":0,\"ticks\":\"\"},\"colorscale\":[[0.0,\"#0d0887\"],[0.1111111111111111,\"#46039f\"],[0.2222222222222222,\"#7201a8\"],[0.3333333333333333,\"#9c179e\"],[0.4444444444444444,\"#bd3786\"],[0.5555555555555556,\"#d8576b\"],[0.6666666666666666,\"#ed7953\"],[0.7777777777777778,\"#fb9f3a\"],[0.8888888888888888,\"#fdca26\"],[1.0,\"#f0f921\"]],\"type\":\"heatmap\"}],\"heatmapgl\":[{\"colorbar\":{\"outlinewidth\":0,\"ticks\":\"\"},\"colorscale\":[[0.0,\"#0d0887\"],[0.1111111111111111,\"#46039f\"],[0.2222222222222222,\"#7201a8\"],[0.3333333333333333,\"#9c179e\"],[0.4444444444444444,\"#bd3786\"],[0.5555555555555556,\"#d8576b\"],[0.6666666666666666,\"#ed7953\"],[0.7777777777777778,\"#fb9f3a\"],[0.8888888888888888,\"#fdca26\"],[1.0,\"#f0f921\"]],\"type\":\"heatmapgl\"}],\"histogram\":[{\"marker\":{\"pattern\":{\"fillmode\":\"overlay\",\"size\":10,\"solidity\":0.2}},\"type\":\"histogram\"}],\"histogram2d\":[{\"colorbar\":{\"outlinewidth\":0,\"ticks\":\"\"},\"colorscale\":[[0.0,\"#0d0887\"],[0.1111111111111111,\"#46039f\"],[0.2222222222222222,\"#7201a8\"],[0.3333333333333333,\"#9c179e\"],[0.4444444444444444,\"#bd3786\"],[0.5555555555555556,\"#d8576b\"],[0.6666666666666666,\"#ed7953\"],[0.7777777777777778,\"#fb9f3a\"],[0.8888888888888888,\"#fdca26\"],[1.0,\"#f0f921\"]],\"type\":\"histogram2d\"}],\"histogram2dcontour\":[{\"colorbar\":{\"outlinewidth\":0,\"ticks\":\"\"},\"colorscale\":[[0.0,\"#0d0887\"],[0.1111111111111111,\"#46039f\"],[0.2222222222222222,\"#7201a8\"],[0.3333333333333333,\"#9c179e\"],[0.4444444444444444,\"#bd3786\"],[0.5555555555555556,\"#d8576b\"],[0.6666666666666666,\"#ed7953\"],[0.7777777777777778,\"#fb9f3a\"],[0.8888888888888888,\"#fdca26\"],[1.0,\"#f0f921\"]],\"type\":\"histogram2dcontour\"}],\"mesh3d\":[{\"colorbar\":{\"outlinewidth\":0,\"ticks\":\"\"},\"type\":\"mesh3d\"}],\"parcoords\":[{\"line\":{\"colorbar\":{\"outlinewidth\":0,\"ticks\":\"\"}},\"type\":\"parcoords\"}],\"pie\":[{\"automargin\":true,\"type\":\"pie\"}],\"scatter\":[{\"marker\":{\"colorbar\":{\"outlinewidth\":0,\"ticks\":\"\"}},\"type\":\"scatter\"}],\"scatter3d\":[{\"line\":{\"colorbar\":{\"outlinewidth\":0,\"ticks\":\"\"}},\"marker\":{\"colorbar\":{\"outlinewidth\":0,\"ticks\":\"\"}},\"type\":\"scatter3d\"}],\"scattercarpet\":[{\"marker\":{\"colorbar\":{\"outlinewidth\":0,\"ticks\":\"\"}},\"type\":\"scattercarpet\"}],\"scattergeo\":[{\"marker\":{\"colorbar\":{\"outlinewidth\":0,\"ticks\":\"\"}},\"type\":\"scattergeo\"}],\"scattergl\":[{\"marker\":{\"colorbar\":{\"outlinewidth\":0,\"ticks\":\"\"}},\"type\":\"scattergl\"}],\"scattermapbox\":[{\"marker\":{\"colorbar\":{\"outlinewidth\":0,\"ticks\":\"\"}},\"type\":\"scattermapbox\"}],\"scatterpolar\":[{\"marker\":{\"colorbar\":{\"outlinewidth\":0,\"ticks\":\"\"}},\"type\":\"scatterpolar\"}],\"scatterpolargl\":[{\"marker\":{\"colorbar\":{\"outlinewidth\":0,\"ticks\":\"\"}},\"type\":\"scatterpolargl\"}],\"scatterternary\":[{\"marker\":{\"colorbar\":{\"outlinewidth\":0,\"ticks\":\"\"}},\"type\":\"scatterternary\"}],\"surface\":[{\"colorbar\":{\"outlinewidth\":0,\"ticks\":\"\"},\"colorscale\":[[0.0,\"#0d0887\"],[0.1111111111111111,\"#46039f\"],[0.2222222222222222,\"#7201a8\"],[0.3333333333333333,\"#9c179e\"],[0.4444444444444444,\"#bd3786\"],[0.5555555555555556,\"#d8576b\"],[0.6666666666666666,\"#ed7953\"],[0.7777777777777778,\"#fb9f3a\"],[0.8888888888888888,\"#fdca26\"],[1.0,\"#f0f921\"]],\"type\":\"surface\"}],\"table\":[{\"cells\":{\"fill\":{\"color\":\"#EBF0F8\"},\"line\":{\"color\":\"white\"}},\"header\":{\"fill\":{\"color\":\"#C8D4E3\"},\"line\":{\"color\":\"white\"}},\"type\":\"table\"}]},\"layout\":{\"annotationdefaults\":{\"arrowcolor\":\"#2a3f5f\",\"arrowhead\":0,\"arrowwidth\":1},\"autotypenumbers\":\"strict\",\"coloraxis\":{\"colorbar\":{\"outlinewidth\":0,\"ticks\":\"\"}},\"colorscale\":{\"diverging\":[[0,\"#8e0152\"],[0.1,\"#c51b7d\"],[0.2,\"#de77ae\"],[0.3,\"#f1b6da\"],[0.4,\"#fde0ef\"],[0.5,\"#f7f7f7\"],[0.6,\"#e6f5d0\"],[0.7,\"#b8e186\"],[0.8,\"#7fbc41\"],[0.9,\"#4d9221\"],[1,\"#276419\"]],\"sequential\":[[0.0,\"#0d0887\"],[0.1111111111111111,\"#46039f\"],[0.2222222222222222,\"#7201a8\"],[0.3333333333333333,\"#9c179e\"],[0.4444444444444444,\"#bd3786\"],[0.5555555555555556,\"#d8576b\"],[0.6666666666666666,\"#ed7953\"],[0.7777777777777778,\"#fb9f3a\"],[0.8888888888888888,\"#fdca26\"],[1.0,\"#f0f921\"]],\"sequentialminus\":[[0.0,\"#0d0887\"],[0.1111111111111111,\"#46039f\"],[0.2222222222222222,\"#7201a8\"],[0.3333333333333333,\"#9c179e\"],[0.4444444444444444,\"#bd3786\"],[0.5555555555555556,\"#d8576b\"],[0.6666666666666666,\"#ed7953\"],[0.7777777777777778,\"#fb9f3a\"],[0.8888888888888888,\"#fdca26\"],[1.0,\"#f0f921\"]]},\"colorway\":[\"#636efa\",\"#EF553B\",\"#00cc96\",\"#ab63fa\",\"#FFA15A\",\"#19d3f3\",\"#FF6692\",\"#B6E880\",\"#FF97FF\",\"#FECB52\"],\"font\":{\"color\":\"#2a3f5f\"},\"geo\":{\"bgcolor\":\"white\",\"lakecolor\":\"white\",\"landcolor\":\"#E5ECF6\",\"showlakes\":true,\"showland\":true,\"subunitcolor\":\"white\"},\"hoverlabel\":{\"align\":\"left\"},\"hovermode\":\"closest\",\"mapbox\":{\"style\":\"light\"},\"paper_bgcolor\":\"white\",\"plot_bgcolor\":\"#E5ECF6\",\"polar\":{\"angularaxis\":{\"gridcolor\":\"white\",\"linecolor\":\"white\",\"ticks\":\"\"},\"bgcolor\":\"#E5ECF6\",\"radialaxis\":{\"gridcolor\":\"white\",\"linecolor\":\"white\",\"ticks\":\"\"}},\"scene\":{\"xaxis\":{\"backgroundcolor\":\"#E5ECF6\",\"gridcolor\":\"white\",\"gridwidth\":2,\"linecolor\":\"white\",\"showbackground\":true,\"ticks\":\"\",\"zerolinecolor\":\"white\"},\"yaxis\":{\"backgroundcolor\":\"#E5ECF6\",\"gridcolor\":\"white\",\"gridwidth\":2,\"linecolor\":\"white\",\"showbackground\":true,\"ticks\":\"\",\"zerolinecolor\":\"white\"},\"zaxis\":{\"backgroundcolor\":\"#E5ECF6\",\"gridcolor\":\"white\",\"gridwidth\":2,\"linecolor\":\"white\",\"showbackground\":true,\"ticks\":\"\",\"zerolinecolor\":\"white\"}},\"shapedefaults\":{\"line\":{\"color\":\"#2a3f5f\"}},\"ternary\":{\"aaxis\":{\"gridcolor\":\"white\",\"linecolor\":\"white\",\"ticks\":\"\"},\"baxis\":{\"gridcolor\":\"white\",\"linecolor\":\"white\",\"ticks\":\"\"},\"bgcolor\":\"#E5ECF6\",\"caxis\":{\"gridcolor\":\"white\",\"linecolor\":\"white\",\"ticks\":\"\"}},\"title\":{\"x\":0.05},\"xaxis\":{\"automargin\":true,\"gridcolor\":\"white\",\"linecolor\":\"white\",\"ticks\":\"\",\"title\":{\"standoff\":15},\"zerolinecolor\":\"white\",\"zerolinewidth\":2},\"yaxis\":{\"automargin\":true,\"gridcolor\":\"white\",\"linecolor\":\"white\",\"ticks\":\"\",\"title\":{\"standoff\":15},\"zerolinecolor\":\"white\",\"zerolinewidth\":2}}},\"title\":{\"text\":\"Main migration processes during the 2000s\",\"x\":0.5,\"xanchor\":\"center\",\"y\":0.86,\"yanchor\":\"top\"}},                        {\"responsive\": true}                    ).then(function(){\n",
       "                            \n",
       "var gd = document.getElementById('e96116bd-e339-42e4-a604-fcf939de9af2');\n",
       "var x = new MutationObserver(function (mutations, observer) {{\n",
       "        var display = window.getComputedStyle(gd).display;\n",
       "        if (!display || display === 'none') {{\n",
       "            console.log([gd, 'removed!']);\n",
       "            Plotly.purge(gd);\n",
       "            observer.disconnect();\n",
       "        }}\n",
       "}});\n",
       "\n",
       "// Listen for the removal of the full notebook cells\n",
       "var notebookContainer = gd.closest('#notebook-container');\n",
       "if (notebookContainer) {{\n",
       "    x.observe(notebookContainer, {childList: true});\n",
       "}}\n",
       "\n",
       "// Listen for the clearing of the current output cell\n",
       "var outputEl = gd.closest('.output');\n",
       "if (outputEl) {{\n",
       "    x.observe(outputEl, {childList: true});\n",
       "}}\n",
       "\n",
       "                        })                };                });            </script>        </div>"
      ]
     },
     "metadata": {},
     "output_type": "display_data"
    }
   ],
   "source": [
    "# We now represent the largest migrations on a world-map. \n",
    "# The thickness of the lines in proportional to the amount of migrants\n",
    "\n",
    "import plotly.graph_objects as go\n",
    "\n",
    "df = largest_migrations       \n",
    "fig = go.Figure()\n",
    "\n",
    "fig.add_trace(go.Scattergeo(\n",
    "    locationmode = 'country names',\n",
    "    locations = df['origin_name'].append(df['dest_name']),\n",
    "    hoverinfo = 'skip',\n",
    "    #text = df['description']  ,#.append(df['dest_name']),\n",
    "    mode = 'markers',\n",
    "    marker = dict(\n",
    "        size = 7,\n",
    "        color = 'rgb(255, 0, 0)',\n",
    "        line = dict(\n",
    "            width = 3,\n",
    "            color = 'rgba(68, 68, 68, 0)'\n",
    "        )\n",
    "    )))\n",
    "\n",
    "for i in range(len(df)):\n",
    "    fig.add_trace(\n",
    "        go.Scattergeo(\n",
    "            locationmode = 'country names',\n",
    "            lat = [df['lat_origin'].iloc[i], df['lat_dest'].iloc[i]],\n",
    "            lon = [df['lon_origin'].iloc[i], df['lon_dest'].iloc[i]],\n",
    "            hoverinfo = 'text',\n",
    "            text = df['description'].iloc[i],\n",
    "            mode = 'lines',\n",
    "            line = dict(width = ((df['2000'].iloc[i] )/df['2000'].max())*20,color = 'red'),\n",
    "            opacity = 0.6,\n",
    "            #hoverinfo = 'skip'\n",
    "            \n",
    "        )\n",
    "    )\n",
    "\n",
    "fig.update_layout(\n",
    "    title={\n",
    "        'text': \"Main migration processes during the 2000s\",\n",
    "        'y':0.86,\n",
    "        'x':0.5,\n",
    "        'xanchor': 'center',\n",
    "        'yanchor': 'top'}\n",
    "    ,    font=dict(\n",
    "        family=\"Courier New, monospace\",\n",
    "        size=18,\n",
    "        color=\"RebeccaPurple\"\n",
    "    ),\n",
    "    showlegend = False,\n",
    "    geo = go.layout.Geo(\n",
    "        scope = 'world',\n",
    "    #    projection_type = 'azimuthal equal area',\n",
    "        showland = True,\n",
    "        landcolor = 'rgb(243, 243, 243)',\n",
    "        countrycolor = 'rgb(204, 204, 204)',\n",
    "    ),\n",
    "    height=600,\n",
    ")\n",
    "\n",
    "\n",
    "fig.update_geos(\n",
    "    visible=True, resolution=50,\n",
    "    showcountries=False, countrycolor=\"RebeccaPurple\"\n",
    ")\n",
    "\n",
    "fig.show()\n"
   ]
  },
  {
   "cell_type": "markdown",
   "metadata": {},
   "source": [
    "# Which are the largest migration processes within South America?"
   ]
  },
  {
   "cell_type": "code",
   "execution_count": 850,
   "metadata": {},
   "outputs": [
    {
     "data": {
      "text/html": [
       "<div>\n",
       "<style scoped>\n",
       "    .dataframe tbody tr th:only-of-type {\n",
       "        vertical-align: middle;\n",
       "    }\n",
       "\n",
       "    .dataframe tbody tr th {\n",
       "        vertical-align: top;\n",
       "    }\n",
       "\n",
       "    .dataframe thead th {\n",
       "        text-align: right;\n",
       "    }\n",
       "</style>\n",
       "<table border=\"1\" class=\"dataframe\">\n",
       "  <thead>\n",
       "    <tr style=\"text-align: right;\">\n",
       "      <th></th>\n",
       "      <th>origin_name</th>\n",
       "      <th>dest_name</th>\n",
       "      <th>2000</th>\n",
       "      <th>lat_origin</th>\n",
       "      <th>lon_origin</th>\n",
       "      <th>lat_dest</th>\n",
       "      <th>lon_dest</th>\n",
       "      <th>description</th>\n",
       "    </tr>\n",
       "  </thead>\n",
       "  <tbody>\n",
       "    <tr>\n",
       "      <th>29790</th>\n",
       "      <td>Colombia</td>\n",
       "      <td>Venezuela</td>\n",
       "      <td>617744</td>\n",
       "      <td>4.570868</td>\n",
       "      <td>-74.297333</td>\n",
       "      <td>6.423750</td>\n",
       "      <td>-66.589730</td>\n",
       "      <td>from Colombia to Venezuela 617 k people</td>\n",
       "    </tr>\n",
       "    <tr>\n",
       "      <th>112043</th>\n",
       "      <td>Paraguay</td>\n",
       "      <td>Argentina</td>\n",
       "      <td>331688</td>\n",
       "      <td>-23.442503</td>\n",
       "      <td>-58.443832</td>\n",
       "      <td>-38.416097</td>\n",
       "      <td>-63.616672</td>\n",
       "      <td>from Paraguay to Argentina 331 k people</td>\n",
       "    </tr>\n",
       "    <tr>\n",
       "      <th>17102</th>\n",
       "      <td>Bolivia</td>\n",
       "      <td>Argentina</td>\n",
       "      <td>237213</td>\n",
       "      <td>-16.290154</td>\n",
       "      <td>-63.588653</td>\n",
       "      <td>-38.416097</td>\n",
       "      <td>-63.616672</td>\n",
       "      <td>from Bolivia to Argentina 237 k people</td>\n",
       "    </tr>\n",
       "    <tr>\n",
       "      <th>28190</th>\n",
       "      <td>Chile</td>\n",
       "      <td>Argentina</td>\n",
       "      <td>219104</td>\n",
       "      <td>-35.675147</td>\n",
       "      <td>-71.542969</td>\n",
       "      <td>-38.416097</td>\n",
       "      <td>-63.616672</td>\n",
       "      <td>from Chile to Argentina 219 k people</td>\n",
       "    </tr>\n",
       "    <tr>\n",
       "      <th>152930</th>\n",
       "      <td>Uruguay</td>\n",
       "      <td>Argentina</td>\n",
       "      <td>119169</td>\n",
       "      <td>-32.522779</td>\n",
       "      <td>-55.765835</td>\n",
       "      <td>-38.416097</td>\n",
       "      <td>-63.616672</td>\n",
       "      <td>from Uruguay to Argentina 119 k people</td>\n",
       "    </tr>\n",
       "    <tr>\n",
       "      <th>112736</th>\n",
       "      <td>Peru</td>\n",
       "      <td>Argentina</td>\n",
       "      <td>91182</td>\n",
       "      <td>-9.189967</td>\n",
       "      <td>-75.015152</td>\n",
       "      <td>-38.416097</td>\n",
       "      <td>-63.616672</td>\n",
       "      <td>from Peru to Argentina 91 k people</td>\n",
       "    </tr>\n",
       "    <tr>\n",
       "      <th>19334</th>\n",
       "      <td>Brazil</td>\n",
       "      <td>Paraguay</td>\n",
       "      <td>82987</td>\n",
       "      <td>-14.235004</td>\n",
       "      <td>-51.925280</td>\n",
       "      <td>-23.442503</td>\n",
       "      <td>-58.443832</td>\n",
       "      <td>from Brazil to Paraguay 82 k people</td>\n",
       "    </tr>\n",
       "    <tr>\n",
       "      <th>6167</th>\n",
       "      <td>Argentina</td>\n",
       "      <td>Paraguay</td>\n",
       "      <td>64284</td>\n",
       "      <td>-38.416097</td>\n",
       "      <td>-63.616672</td>\n",
       "      <td>-23.442503</td>\n",
       "      <td>-58.443832</td>\n",
       "      <td>from Argentina to Paraguay 64 k people</td>\n",
       "    </tr>\n",
       "    <tr>\n",
       "      <th>29625</th>\n",
       "      <td>Colombia</td>\n",
       "      <td>Ecuador</td>\n",
       "      <td>50510</td>\n",
       "      <td>4.570868</td>\n",
       "      <td>-74.297333</td>\n",
       "      <td>-1.831239</td>\n",
       "      <td>-78.183406</td>\n",
       "      <td>from Colombia to Ecuador 50 k people</td>\n",
       "    </tr>\n",
       "    <tr>\n",
       "      <th>6046</th>\n",
       "      <td>Argentina</td>\n",
       "      <td>Chile</td>\n",
       "      <td>45713</td>\n",
       "      <td>-38.416097</td>\n",
       "      <td>-63.616672</td>\n",
       "      <td>-35.675147</td>\n",
       "      <td>-71.542969</td>\n",
       "      <td>from Argentina to Chile 45 k people</td>\n",
       "    </tr>\n",
       "  </tbody>\n",
       "</table>\n",
       "</div>"
      ],
      "text/plain": [
       "       origin_name  dest_name    2000  lat_origin  lon_origin   lat_dest  \\\n",
       "29790     Colombia  Venezuela  617744    4.570868  -74.297333   6.423750   \n",
       "112043    Paraguay  Argentina  331688  -23.442503  -58.443832 -38.416097   \n",
       "17102      Bolivia  Argentina  237213  -16.290154  -63.588653 -38.416097   \n",
       "28190        Chile  Argentina  219104  -35.675147  -71.542969 -38.416097   \n",
       "152930     Uruguay  Argentina  119169  -32.522779  -55.765835 -38.416097   \n",
       "112736        Peru  Argentina   91182   -9.189967  -75.015152 -38.416097   \n",
       "19334       Brazil   Paraguay   82987  -14.235004  -51.925280 -23.442503   \n",
       "6167     Argentina   Paraguay   64284  -38.416097  -63.616672 -23.442503   \n",
       "29625     Colombia    Ecuador   50510    4.570868  -74.297333  -1.831239   \n",
       "6046     Argentina      Chile   45713  -38.416097  -63.616672 -35.675147   \n",
       "\n",
       "         lon_dest                              description  \n",
       "29790  -66.589730  from Colombia to Venezuela 617 k people  \n",
       "112043 -63.616672  from Paraguay to Argentina 331 k people  \n",
       "17102  -63.616672   from Bolivia to Argentina 237 k people  \n",
       "28190  -63.616672     from Chile to Argentina 219 k people  \n",
       "152930 -63.616672   from Uruguay to Argentina 119 k people  \n",
       "112736 -63.616672       from Peru to Argentina 91 k people  \n",
       "19334  -58.443832      from Brazil to Paraguay 82 k people  \n",
       "6167   -58.443832   from Argentina to Paraguay 64 k people  \n",
       "29625  -78.183406     from Colombia to Ecuador 50 k people  \n",
       "6046   -71.542969      from Argentina to Chile 45 k people  "
      ]
     },
     "execution_count": 850,
     "metadata": {},
     "output_type": "execute_result"
    }
   ],
   "source": [
    "# We slice the previous dataset to the coordinates that enclose South America\n",
    "\n",
    "lat_south_america = [-56.,10.]\n",
    "lon_south_america = [-140.,-28.]\n",
    "\n",
    "largest_migrations_latin_america = migration.loc[migration['gender_code'].isin(['TOT'])].sort_values('2000',ascending=False)[['origin_name','dest_name','2000','lat_origin','lon_origin','lat_dest','lon_dest']]\n",
    "largest_migrations_latin_america =largest_migrations_latin_america[(largest_migrations_latin_america['lat_origin'].between(lat_south_america[0],lat_south_america[1])) & (largest_migrations_latin_america['lon_origin'].between(lon_south_america[0],lon_south_america[1])) \n",
    "                                & (largest_migrations_latin_america['lat_dest'].between(lat_south_america[0],lat_south_america[1])) & (largest_migrations_latin_america['lon_dest'].between(lon_south_america[0],lon_south_america[1]))]\n",
    "largest_migrations_latin_america['description'] = largest_migrations_latin_america.apply(lambda x: 'from ' + x['origin_name'] + ' to '+ x['dest_name'] +  ' ' + str( int(x['2000'] / 1000)) + ' k people',axis=1)\n",
    "\n",
    "\n",
    "largest_migrations_latin_america.sort_values('2000',ascending=False,inplace=True)\n",
    "largest_migrations_latin_america.head(10)"
   ]
  },
  {
   "cell_type": "code",
   "execution_count": 897,
   "metadata": {},
   "outputs": [
    {
     "data": {
      "application/vnd.plotly.v1+json": {
       "config": {
        "plotlyServerURL": "https://plot.ly"
       },
       "data": [
        {
         "hoverinfo": "skip",
         "locationmode": "country names",
         "locations": [
          "Colombia",
          "Paraguay",
          "Bolivia",
          "Chile",
          "Uruguay",
          "Peru",
          "Brazil",
          "Argentina",
          "Colombia",
          "Argentina",
          "Venezuela",
          "Brazil",
          "Peru",
          "Peru",
          "Ecuador",
          "Venezuela",
          "Argentina",
          "Argentina",
          "Argentina",
          "Argentina",
          "Argentina",
          "Paraguay",
          "Paraguay",
          "Ecuador",
          "Chile",
          "Colombia",
          "Argentina",
          "Venezuela",
          "Chile",
          "Venezuela"
         ],
         "marker": {
          "color": "rgb(255, 0, 0)",
          "line": {
           "color": "rgba(68, 68, 68, 0)",
           "width": 3
          },
          "size": 7
         },
         "mode": "markers",
         "name": "Countries",
         "type": "scattergeo"
        },
        {
         "hoverinfo": "text",
         "lat": [
          4.570868,
          6.42375
         ],
         "line": {
          "color": "red",
          "width": 20
         },
         "locationmode": "country names",
         "lon": [
          -74.297333,
          -66.58973
         ],
         "mode": "lines",
         "name": "from Colombia to Venezuela 617 k people",
         "opacity": 0.6,
         "text": "from Colombia to Venezuela 617 k people",
         "type": "scattergeo"
        },
        {
         "hoverinfo": "text",
         "lat": [
          -23.442503,
          -38.416097
         ],
         "line": {
          "color": "red",
          "width": 10.738687870703723
         },
         "locationmode": "country names",
         "lon": [
          -58.44383199999999,
          -63.616671999999994
         ],
         "mode": "lines",
         "name": "from Paraguay to Argentina 331 k people",
         "opacity": 0.6,
         "text": "from Paraguay to Argentina 331 k people",
         "type": "scattergeo"
        },
        {
         "hoverinfo": "text",
         "lat": [
          -16.290154,
          -38.416097
         ],
         "line": {
          "color": "red",
          "width": 7.679977466393845
         },
         "locationmode": "country names",
         "lon": [
          -63.588653,
          -63.616671999999994
         ],
         "mode": "lines",
         "name": "from Bolivia to Argentina 237 k people",
         "opacity": 0.6,
         "text": "from Bolivia to Argentina 237 k people",
         "type": "scattergeo"
        },
        {
         "hoverinfo": "text",
         "lat": [
          -35.675146999999996,
          -38.416097
         ],
         "line": {
          "color": "red",
          "width": 7.09368282006786
         },
         "locationmode": "country names",
         "lon": [
          -71.542969,
          -63.616671999999994
         ],
         "mode": "lines",
         "name": "from Chile to Argentina 219 k people",
         "opacity": 0.6,
         "text": "from Chile to Argentina 219 k people",
         "type": "scattergeo"
        },
        {
         "hoverinfo": "text",
         "lat": [
          -32.522779,
          -38.416097
         ],
         "line": {
          "color": "red",
          "width": 3.8582001605843197
         },
         "locationmode": "country names",
         "lon": [
          -55.765834999999996,
          -63.616671999999994
         ],
         "mode": "lines",
         "name": "from Uruguay to Argentina 119 k people",
         "opacity": 0.6,
         "text": "from Uruguay to Argentina 119 k people",
         "type": "scattergeo"
        },
        {
         "hoverinfo": "text",
         "lat": [
          -9.189967,
          -38.416097
         ],
         "line": {
          "color": "red",
          "width": 2.9520966614001916
         },
         "locationmode": "country names",
         "lon": [
          -75.015152,
          -63.616671999999994
         ],
         "mode": "lines",
         "name": "from Peru to Argentina 91 k people",
         "opacity": 0.6,
         "text": "from Peru to Argentina 91 k people",
         "type": "scattergeo"
        },
        {
         "hoverinfo": "text",
         "lat": [
          -14.235004,
          -23.442503
         ],
         "line": {
          "color": "red",
          "width": 2.6867763992851406
         },
         "locationmode": "country names",
         "lon": [
          -51.92528,
          -58.44383199999999
         ],
         "mode": "lines",
         "name": "from Brazil to Paraguay 82 k people",
         "opacity": 0.6,
         "text": "from Brazil to Paraguay 82 k people",
         "type": "scattergeo"
        },
        {
         "hoverinfo": "text",
         "lat": [
          -38.416097,
          -23.442503
         ],
         "line": {
          "color": "red",
          "width": 2.081250485638064
         },
         "locationmode": "country names",
         "lon": [
          -63.616671999999994,
          -58.44383199999999
         ],
         "mode": "lines",
         "name": "from Argentina to Paraguay 64 k people",
         "opacity": 0.6,
         "text": "from Argentina to Paraguay 64 k people",
         "type": "scattergeo"
        },
        {
         "hoverinfo": "text",
         "lat": [
          4.570868,
          -1.8312389999999998
         ],
         "line": {
          "color": "red",
          "width": 1.6353052397109482
         },
         "locationmode": "country names",
         "lon": [
          -74.297333,
          -78.183406
         ],
         "mode": "lines",
         "name": "from Colombia to Ecuador 50 k people",
         "opacity": 0.6,
         "text": "from Colombia to Ecuador 50 k people",
         "type": "scattergeo"
        },
        {
         "hoverinfo": "text",
         "lat": [
          -38.416097,
          -35.675146999999996
         ],
         "line": {
          "color": "red",
          "width": 1.479998186951229
         },
         "locationmode": "country names",
         "lon": [
          -63.616671999999994,
          -71.542969
         ],
         "mode": "lines",
         "name": "from Argentina to Chile 45 k people",
         "opacity": 0.6,
         "text": "from Argentina to Chile 45 k people",
         "type": "scattergeo"
        },
        {
         "hoverinfo": "text",
         "lat": [
          6.42375,
          4.570868
         ],
         "line": {
          "color": "red",
          "width": 1.2033787458882643
         },
         "locationmode": "country names",
         "lon": [
          -66.58973,
          -74.297333
         ],
         "mode": "lines",
         "name": "from Venezuela to Colombia 37 k people",
         "opacity": 0.6,
         "text": "from Venezuela to Colombia 37 k people",
         "type": "scattergeo"
        },
        {
         "hoverinfo": "text",
         "lat": [
          -14.235004,
          -38.416097
         ],
         "line": {
          "color": "red",
          "width": 1.1792587220596236
         },
         "locationmode": "country names",
         "lon": [
          -51.92528,
          -63.616671999999994
         ],
         "mode": "lines",
         "name": "from Brazil to Argentina 36 k people",
         "opacity": 0.6,
         "text": "from Brazil to Argentina 36 k people",
         "type": "scattergeo"
        },
        {
         "hoverinfo": "text",
         "lat": [
          -9.189967,
          6.42375
         ],
         "line": {
          "color": "red",
          "width": 1.177672304384988
         },
         "locationmode": "country names",
         "lon": [
          -75.015152,
          -66.58973
         ],
         "mode": "lines",
         "name": "from Peru to Venezuela 36 k people",
         "opacity": 0.6,
         "text": "from Peru to Venezuela 36 k people",
         "type": "scattergeo"
        },
        {
         "hoverinfo": "text",
         "lat": [
          -9.189967,
          -35.675146999999996
         ],
         "line": {
          "color": "red",
          "width": 1.1466238441814085
         },
         "locationmode": "country names",
         "lon": [
          -75.015152,
          -71.542969
         ],
         "mode": "lines",
         "name": "from Peru to Chile 35 k people",
         "opacity": 0.6,
         "text": "from Peru to Chile 35 k people",
         "type": "scattergeo"
        },
        {
         "hoverinfo": "text",
         "lat": [
          -1.8312389999999998,
          6.42375
         ],
         "line": {
          "color": "red",
          "width": 0.9397744049314927
         },
         "locationmode": "country names",
         "lon": [
          -78.183406,
          -66.58973
         ],
         "mode": "lines",
         "name": "from Ecuador to Venezuela 29 k people",
         "opacity": 0.6,
         "text": "from Ecuador to Venezuela 29 k people",
         "type": "scattergeo"
        }
       ],
       "layout": {
        "font": {
         "color": "RebeccaPurple",
         "family": "Courier New, monospace",
         "size": 14
        },
        "geo": {
         "countrycolor": "RebeccaPurple",
         "landcolor": "rgb(243, 243, 243)",
         "resolution": 50,
         "scope": "south america",
         "showcountries": true,
         "showland": true,
         "visible": true
        },
        "height": 600,
        "showlegend": true,
        "template": {
         "data": {
          "bar": [
           {
            "error_x": {
             "color": "rgb(36,36,36)"
            },
            "error_y": {
             "color": "rgb(36,36,36)"
            },
            "marker": {
             "line": {
              "color": "rgb(234,234,242)",
              "width": 0.5
             },
             "pattern": {
              "fillmode": "overlay",
              "size": 10,
              "solidity": 0.2
             }
            },
            "type": "bar"
           }
          ],
          "barpolar": [
           {
            "marker": {
             "line": {
              "color": "rgb(234,234,242)",
              "width": 0.5
             },
             "pattern": {
              "fillmode": "overlay",
              "size": 10,
              "solidity": 0.2
             }
            },
            "type": "barpolar"
           }
          ],
          "carpet": [
           {
            "aaxis": {
             "endlinecolor": "rgb(36,36,36)",
             "gridcolor": "white",
             "linecolor": "white",
             "minorgridcolor": "white",
             "startlinecolor": "rgb(36,36,36)"
            },
            "baxis": {
             "endlinecolor": "rgb(36,36,36)",
             "gridcolor": "white",
             "linecolor": "white",
             "minorgridcolor": "white",
             "startlinecolor": "rgb(36,36,36)"
            },
            "type": "carpet"
           }
          ],
          "choropleth": [
           {
            "colorbar": {
             "outlinewidth": 0,
             "tickcolor": "rgb(36,36,36)",
             "ticklen": 8,
             "ticks": "outside",
             "tickwidth": 2
            },
            "type": "choropleth"
           }
          ],
          "contour": [
           {
            "colorbar": {
             "outlinewidth": 0,
             "tickcolor": "rgb(36,36,36)",
             "ticklen": 8,
             "ticks": "outside",
             "tickwidth": 2
            },
            "colorscale": [
             [
              0,
              "rgb(2,4,25)"
             ],
             [
              0.06274509803921569,
              "rgb(24,15,41)"
             ],
             [
              0.12549019607843137,
              "rgb(47,23,57)"
             ],
             [
              0.18823529411764706,
              "rgb(71,28,72)"
             ],
             [
              0.25098039215686274,
              "rgb(97,30,82)"
             ],
             [
              0.3137254901960784,
              "rgb(123,30,89)"
             ],
             [
              0.3764705882352941,
              "rgb(150,27,91)"
             ],
             [
              0.4392156862745098,
              "rgb(177,22,88)"
             ],
             [
              0.5019607843137255,
              "rgb(203,26,79)"
             ],
             [
              0.5647058823529412,
              "rgb(223,47,67)"
             ],
             [
              0.6274509803921569,
              "rgb(236,76,61)"
             ],
             [
              0.6901960784313725,
              "rgb(242,107,73)"
             ],
             [
              0.7529411764705882,
              "rgb(244,135,95)"
             ],
             [
              0.8156862745098039,
              "rgb(245,162,122)"
             ],
             [
              0.8784313725490196,
              "rgb(246,188,153)"
             ],
             [
              0.9411764705882353,
              "rgb(247,212,187)"
             ],
             [
              1,
              "rgb(250,234,220)"
             ]
            ],
            "type": "contour"
           }
          ],
          "contourcarpet": [
           {
            "colorbar": {
             "outlinewidth": 0,
             "tickcolor": "rgb(36,36,36)",
             "ticklen": 8,
             "ticks": "outside",
             "tickwidth": 2
            },
            "type": "contourcarpet"
           }
          ],
          "heatmap": [
           {
            "colorbar": {
             "outlinewidth": 0,
             "tickcolor": "rgb(36,36,36)",
             "ticklen": 8,
             "ticks": "outside",
             "tickwidth": 2
            },
            "colorscale": [
             [
              0,
              "rgb(2,4,25)"
             ],
             [
              0.06274509803921569,
              "rgb(24,15,41)"
             ],
             [
              0.12549019607843137,
              "rgb(47,23,57)"
             ],
             [
              0.18823529411764706,
              "rgb(71,28,72)"
             ],
             [
              0.25098039215686274,
              "rgb(97,30,82)"
             ],
             [
              0.3137254901960784,
              "rgb(123,30,89)"
             ],
             [
              0.3764705882352941,
              "rgb(150,27,91)"
             ],
             [
              0.4392156862745098,
              "rgb(177,22,88)"
             ],
             [
              0.5019607843137255,
              "rgb(203,26,79)"
             ],
             [
              0.5647058823529412,
              "rgb(223,47,67)"
             ],
             [
              0.6274509803921569,
              "rgb(236,76,61)"
             ],
             [
              0.6901960784313725,
              "rgb(242,107,73)"
             ],
             [
              0.7529411764705882,
              "rgb(244,135,95)"
             ],
             [
              0.8156862745098039,
              "rgb(245,162,122)"
             ],
             [
              0.8784313725490196,
              "rgb(246,188,153)"
             ],
             [
              0.9411764705882353,
              "rgb(247,212,187)"
             ],
             [
              1,
              "rgb(250,234,220)"
             ]
            ],
            "type": "heatmap"
           }
          ],
          "heatmapgl": [
           {
            "colorbar": {
             "outlinewidth": 0,
             "tickcolor": "rgb(36,36,36)",
             "ticklen": 8,
             "ticks": "outside",
             "tickwidth": 2
            },
            "colorscale": [
             [
              0,
              "rgb(2,4,25)"
             ],
             [
              0.06274509803921569,
              "rgb(24,15,41)"
             ],
             [
              0.12549019607843137,
              "rgb(47,23,57)"
             ],
             [
              0.18823529411764706,
              "rgb(71,28,72)"
             ],
             [
              0.25098039215686274,
              "rgb(97,30,82)"
             ],
             [
              0.3137254901960784,
              "rgb(123,30,89)"
             ],
             [
              0.3764705882352941,
              "rgb(150,27,91)"
             ],
             [
              0.4392156862745098,
              "rgb(177,22,88)"
             ],
             [
              0.5019607843137255,
              "rgb(203,26,79)"
             ],
             [
              0.5647058823529412,
              "rgb(223,47,67)"
             ],
             [
              0.6274509803921569,
              "rgb(236,76,61)"
             ],
             [
              0.6901960784313725,
              "rgb(242,107,73)"
             ],
             [
              0.7529411764705882,
              "rgb(244,135,95)"
             ],
             [
              0.8156862745098039,
              "rgb(245,162,122)"
             ],
             [
              0.8784313725490196,
              "rgb(246,188,153)"
             ],
             [
              0.9411764705882353,
              "rgb(247,212,187)"
             ],
             [
              1,
              "rgb(250,234,220)"
             ]
            ],
            "type": "heatmapgl"
           }
          ],
          "histogram": [
           {
            "marker": {
             "pattern": {
              "fillmode": "overlay",
              "size": 10,
              "solidity": 0.2
             }
            },
            "type": "histogram"
           }
          ],
          "histogram2d": [
           {
            "colorbar": {
             "outlinewidth": 0,
             "tickcolor": "rgb(36,36,36)",
             "ticklen": 8,
             "ticks": "outside",
             "tickwidth": 2
            },
            "colorscale": [
             [
              0,
              "rgb(2,4,25)"
             ],
             [
              0.06274509803921569,
              "rgb(24,15,41)"
             ],
             [
              0.12549019607843137,
              "rgb(47,23,57)"
             ],
             [
              0.18823529411764706,
              "rgb(71,28,72)"
             ],
             [
              0.25098039215686274,
              "rgb(97,30,82)"
             ],
             [
              0.3137254901960784,
              "rgb(123,30,89)"
             ],
             [
              0.3764705882352941,
              "rgb(150,27,91)"
             ],
             [
              0.4392156862745098,
              "rgb(177,22,88)"
             ],
             [
              0.5019607843137255,
              "rgb(203,26,79)"
             ],
             [
              0.5647058823529412,
              "rgb(223,47,67)"
             ],
             [
              0.6274509803921569,
              "rgb(236,76,61)"
             ],
             [
              0.6901960784313725,
              "rgb(242,107,73)"
             ],
             [
              0.7529411764705882,
              "rgb(244,135,95)"
             ],
             [
              0.8156862745098039,
              "rgb(245,162,122)"
             ],
             [
              0.8784313725490196,
              "rgb(246,188,153)"
             ],
             [
              0.9411764705882353,
              "rgb(247,212,187)"
             ],
             [
              1,
              "rgb(250,234,220)"
             ]
            ],
            "type": "histogram2d"
           }
          ],
          "histogram2dcontour": [
           {
            "colorbar": {
             "outlinewidth": 0,
             "tickcolor": "rgb(36,36,36)",
             "ticklen": 8,
             "ticks": "outside",
             "tickwidth": 2
            },
            "colorscale": [
             [
              0,
              "rgb(2,4,25)"
             ],
             [
              0.06274509803921569,
              "rgb(24,15,41)"
             ],
             [
              0.12549019607843137,
              "rgb(47,23,57)"
             ],
             [
              0.18823529411764706,
              "rgb(71,28,72)"
             ],
             [
              0.25098039215686274,
              "rgb(97,30,82)"
             ],
             [
              0.3137254901960784,
              "rgb(123,30,89)"
             ],
             [
              0.3764705882352941,
              "rgb(150,27,91)"
             ],
             [
              0.4392156862745098,
              "rgb(177,22,88)"
             ],
             [
              0.5019607843137255,
              "rgb(203,26,79)"
             ],
             [
              0.5647058823529412,
              "rgb(223,47,67)"
             ],
             [
              0.6274509803921569,
              "rgb(236,76,61)"
             ],
             [
              0.6901960784313725,
              "rgb(242,107,73)"
             ],
             [
              0.7529411764705882,
              "rgb(244,135,95)"
             ],
             [
              0.8156862745098039,
              "rgb(245,162,122)"
             ],
             [
              0.8784313725490196,
              "rgb(246,188,153)"
             ],
             [
              0.9411764705882353,
              "rgb(247,212,187)"
             ],
             [
              1,
              "rgb(250,234,220)"
             ]
            ],
            "type": "histogram2dcontour"
           }
          ],
          "mesh3d": [
           {
            "colorbar": {
             "outlinewidth": 0,
             "tickcolor": "rgb(36,36,36)",
             "ticklen": 8,
             "ticks": "outside",
             "tickwidth": 2
            },
            "type": "mesh3d"
           }
          ],
          "parcoords": [
           {
            "line": {
             "colorbar": {
              "outlinewidth": 0,
              "tickcolor": "rgb(36,36,36)",
              "ticklen": 8,
              "ticks": "outside",
              "tickwidth": 2
             }
            },
            "type": "parcoords"
           }
          ],
          "pie": [
           {
            "automargin": true,
            "type": "pie"
           }
          ],
          "scatter": [
           {
            "marker": {
             "colorbar": {
              "outlinewidth": 0,
              "tickcolor": "rgb(36,36,36)",
              "ticklen": 8,
              "ticks": "outside",
              "tickwidth": 2
             }
            },
            "type": "scatter"
           }
          ],
          "scatter3d": [
           {
            "line": {
             "colorbar": {
              "outlinewidth": 0,
              "tickcolor": "rgb(36,36,36)",
              "ticklen": 8,
              "ticks": "outside",
              "tickwidth": 2
             }
            },
            "marker": {
             "colorbar": {
              "outlinewidth": 0,
              "tickcolor": "rgb(36,36,36)",
              "ticklen": 8,
              "ticks": "outside",
              "tickwidth": 2
             }
            },
            "type": "scatter3d"
           }
          ],
          "scattercarpet": [
           {
            "marker": {
             "colorbar": {
              "outlinewidth": 0,
              "tickcolor": "rgb(36,36,36)",
              "ticklen": 8,
              "ticks": "outside",
              "tickwidth": 2
             }
            },
            "type": "scattercarpet"
           }
          ],
          "scattergeo": [
           {
            "marker": {
             "colorbar": {
              "outlinewidth": 0,
              "tickcolor": "rgb(36,36,36)",
              "ticklen": 8,
              "ticks": "outside",
              "tickwidth": 2
             }
            },
            "type": "scattergeo"
           }
          ],
          "scattergl": [
           {
            "marker": {
             "colorbar": {
              "outlinewidth": 0,
              "tickcolor": "rgb(36,36,36)",
              "ticklen": 8,
              "ticks": "outside",
              "tickwidth": 2
             }
            },
            "type": "scattergl"
           }
          ],
          "scattermapbox": [
           {
            "marker": {
             "colorbar": {
              "outlinewidth": 0,
              "tickcolor": "rgb(36,36,36)",
              "ticklen": 8,
              "ticks": "outside",
              "tickwidth": 2
             }
            },
            "type": "scattermapbox"
           }
          ],
          "scatterpolar": [
           {
            "marker": {
             "colorbar": {
              "outlinewidth": 0,
              "tickcolor": "rgb(36,36,36)",
              "ticklen": 8,
              "ticks": "outside",
              "tickwidth": 2
             }
            },
            "type": "scatterpolar"
           }
          ],
          "scatterpolargl": [
           {
            "marker": {
             "colorbar": {
              "outlinewidth": 0,
              "tickcolor": "rgb(36,36,36)",
              "ticklen": 8,
              "ticks": "outside",
              "tickwidth": 2
             }
            },
            "type": "scatterpolargl"
           }
          ],
          "scatterternary": [
           {
            "marker": {
             "colorbar": {
              "outlinewidth": 0,
              "tickcolor": "rgb(36,36,36)",
              "ticklen": 8,
              "ticks": "outside",
              "tickwidth": 2
             }
            },
            "type": "scatterternary"
           }
          ],
          "surface": [
           {
            "colorbar": {
             "outlinewidth": 0,
             "tickcolor": "rgb(36,36,36)",
             "ticklen": 8,
             "ticks": "outside",
             "tickwidth": 2
            },
            "colorscale": [
             [
              0,
              "rgb(2,4,25)"
             ],
             [
              0.06274509803921569,
              "rgb(24,15,41)"
             ],
             [
              0.12549019607843137,
              "rgb(47,23,57)"
             ],
             [
              0.18823529411764706,
              "rgb(71,28,72)"
             ],
             [
              0.25098039215686274,
              "rgb(97,30,82)"
             ],
             [
              0.3137254901960784,
              "rgb(123,30,89)"
             ],
             [
              0.3764705882352941,
              "rgb(150,27,91)"
             ],
             [
              0.4392156862745098,
              "rgb(177,22,88)"
             ],
             [
              0.5019607843137255,
              "rgb(203,26,79)"
             ],
             [
              0.5647058823529412,
              "rgb(223,47,67)"
             ],
             [
              0.6274509803921569,
              "rgb(236,76,61)"
             ],
             [
              0.6901960784313725,
              "rgb(242,107,73)"
             ],
             [
              0.7529411764705882,
              "rgb(244,135,95)"
             ],
             [
              0.8156862745098039,
              "rgb(245,162,122)"
             ],
             [
              0.8784313725490196,
              "rgb(246,188,153)"
             ],
             [
              0.9411764705882353,
              "rgb(247,212,187)"
             ],
             [
              1,
              "rgb(250,234,220)"
             ]
            ],
            "type": "surface"
           }
          ],
          "table": [
           {
            "cells": {
             "fill": {
              "color": "rgb(231,231,240)"
             },
             "line": {
              "color": "white"
             }
            },
            "header": {
             "fill": {
              "color": "rgb(183,183,191)"
             },
             "line": {
              "color": "white"
             }
            },
            "type": "table"
           }
          ]
         },
         "layout": {
          "annotationdefaults": {
           "arrowcolor": "rgb(67,103,167)"
          },
          "autotypenumbers": "strict",
          "coloraxis": {
           "colorbar": {
            "outlinewidth": 0,
            "tickcolor": "rgb(36,36,36)",
            "ticklen": 8,
            "ticks": "outside",
            "tickwidth": 2
           }
          },
          "colorscale": {
           "sequential": [
            [
             0,
             "rgb(2,4,25)"
            ],
            [
             0.06274509803921569,
             "rgb(24,15,41)"
            ],
            [
             0.12549019607843137,
             "rgb(47,23,57)"
            ],
            [
             0.18823529411764706,
             "rgb(71,28,72)"
            ],
            [
             0.25098039215686274,
             "rgb(97,30,82)"
            ],
            [
             0.3137254901960784,
             "rgb(123,30,89)"
            ],
            [
             0.3764705882352941,
             "rgb(150,27,91)"
            ],
            [
             0.4392156862745098,
             "rgb(177,22,88)"
            ],
            [
             0.5019607843137255,
             "rgb(203,26,79)"
            ],
            [
             0.5647058823529412,
             "rgb(223,47,67)"
            ],
            [
             0.6274509803921569,
             "rgb(236,76,61)"
            ],
            [
             0.6901960784313725,
             "rgb(242,107,73)"
            ],
            [
             0.7529411764705882,
             "rgb(244,135,95)"
            ],
            [
             0.8156862745098039,
             "rgb(245,162,122)"
            ],
            [
             0.8784313725490196,
             "rgb(246,188,153)"
            ],
            [
             0.9411764705882353,
             "rgb(247,212,187)"
            ],
            [
             1,
             "rgb(250,234,220)"
            ]
           ],
           "sequentialminus": [
            [
             0,
             "rgb(2,4,25)"
            ],
            [
             0.06274509803921569,
             "rgb(24,15,41)"
            ],
            [
             0.12549019607843137,
             "rgb(47,23,57)"
            ],
            [
             0.18823529411764706,
             "rgb(71,28,72)"
            ],
            [
             0.25098039215686274,
             "rgb(97,30,82)"
            ],
            [
             0.3137254901960784,
             "rgb(123,30,89)"
            ],
            [
             0.3764705882352941,
             "rgb(150,27,91)"
            ],
            [
             0.4392156862745098,
             "rgb(177,22,88)"
            ],
            [
             0.5019607843137255,
             "rgb(203,26,79)"
            ],
            [
             0.5647058823529412,
             "rgb(223,47,67)"
            ],
            [
             0.6274509803921569,
             "rgb(236,76,61)"
            ],
            [
             0.6901960784313725,
             "rgb(242,107,73)"
            ],
            [
             0.7529411764705882,
             "rgb(244,135,95)"
            ],
            [
             0.8156862745098039,
             "rgb(245,162,122)"
            ],
            [
             0.8784313725490196,
             "rgb(246,188,153)"
            ],
            [
             0.9411764705882353,
             "rgb(247,212,187)"
            ],
            [
             1,
             "rgb(250,234,220)"
            ]
           ]
          },
          "colorway": [
           "rgb(76,114,176)",
           "rgb(221,132,82)",
           "rgb(85,168,104)",
           "rgb(196,78,82)",
           "rgb(129,114,179)",
           "rgb(147,120,96)",
           "rgb(218,139,195)",
           "rgb(140,140,140)",
           "rgb(204,185,116)",
           "rgb(100,181,205)"
          ],
          "font": {
           "color": "rgb(36,36,36)"
          },
          "geo": {
           "bgcolor": "white",
           "lakecolor": "white",
           "landcolor": "rgb(234,234,242)",
           "showlakes": true,
           "showland": true,
           "subunitcolor": "white"
          },
          "hoverlabel": {
           "align": "left"
          },
          "hovermode": "closest",
          "paper_bgcolor": "white",
          "plot_bgcolor": "rgb(234,234,242)",
          "polar": {
           "angularaxis": {
            "gridcolor": "white",
            "linecolor": "white",
            "showgrid": true,
            "ticks": ""
           },
           "bgcolor": "rgb(234,234,242)",
           "radialaxis": {
            "gridcolor": "white",
            "linecolor": "white",
            "showgrid": true,
            "ticks": ""
           }
          },
          "scene": {
           "xaxis": {
            "backgroundcolor": "rgb(234,234,242)",
            "gridcolor": "white",
            "gridwidth": 2,
            "linecolor": "white",
            "showbackground": true,
            "showgrid": true,
            "ticks": "",
            "zerolinecolor": "white"
           },
           "yaxis": {
            "backgroundcolor": "rgb(234,234,242)",
            "gridcolor": "white",
            "gridwidth": 2,
            "linecolor": "white",
            "showbackground": true,
            "showgrid": true,
            "ticks": "",
            "zerolinecolor": "white"
           },
           "zaxis": {
            "backgroundcolor": "rgb(234,234,242)",
            "gridcolor": "white",
            "gridwidth": 2,
            "linecolor": "white",
            "showbackground": true,
            "showgrid": true,
            "ticks": "",
            "zerolinecolor": "white"
           }
          },
          "shapedefaults": {
           "fillcolor": "rgb(67,103,167)",
           "line": {
            "width": 0
           },
           "opacity": 0.5
          },
          "ternary": {
           "aaxis": {
            "gridcolor": "white",
            "linecolor": "white",
            "showgrid": true,
            "ticks": ""
           },
           "baxis": {
            "gridcolor": "white",
            "linecolor": "white",
            "showgrid": true,
            "ticks": ""
           },
           "bgcolor": "rgb(234,234,242)",
           "caxis": {
            "gridcolor": "white",
            "linecolor": "white",
            "showgrid": true,
            "ticks": ""
           }
          },
          "xaxis": {
           "automargin": true,
           "gridcolor": "white",
           "linecolor": "white",
           "showgrid": true,
           "ticks": "",
           "title": {
            "standoff": 15
           },
           "zerolinecolor": "white"
          },
          "yaxis": {
           "automargin": true,
           "gridcolor": "white",
           "linecolor": "white",
           "showgrid": true,
           "ticks": "",
           "title": {
            "standoff": 15
           },
           "zerolinecolor": "white"
          }
         }
        },
        "title": {
         "text": "Main migrations in South America during the 2000s",
         "x": 0.5,
         "xanchor": "center",
         "y": 0.86,
         "yanchor": "top"
        }
       }
      },
      "text/html": [
       "<div>                            <div id=\"74e07fa7-bcfd-4b5d-b818-51aeb5f57f62\" class=\"plotly-graph-div\" style=\"height:600px; width:100%;\"></div>            <script type=\"text/javascript\">                require([\"plotly\"], function(Plotly) {                    window.PLOTLYENV=window.PLOTLYENV || {};                                    if (document.getElementById(\"74e07fa7-bcfd-4b5d-b818-51aeb5f57f62\")) {                    Plotly.newPlot(                        \"74e07fa7-bcfd-4b5d-b818-51aeb5f57f62\",                        [{\"hoverinfo\":\"skip\",\"locationmode\":\"country names\",\"locations\":[\"Colombia\",\"Paraguay\",\"Bolivia\",\"Chile\",\"Uruguay\",\"Peru\",\"Brazil\",\"Argentina\",\"Colombia\",\"Argentina\",\"Venezuela\",\"Brazil\",\"Peru\",\"Peru\",\"Ecuador\",\"Venezuela\",\"Argentina\",\"Argentina\",\"Argentina\",\"Argentina\",\"Argentina\",\"Paraguay\",\"Paraguay\",\"Ecuador\",\"Chile\",\"Colombia\",\"Argentina\",\"Venezuela\",\"Chile\",\"Venezuela\"],\"marker\":{\"color\":\"rgb(255, 0, 0)\",\"line\":{\"color\":\"rgba(68, 68, 68, 0)\",\"width\":3},\"size\":7},\"mode\":\"markers\",\"name\":\"Countries\",\"type\":\"scattergeo\"},{\"hoverinfo\":\"text\",\"lat\":[4.570868,6.42375],\"line\":{\"color\":\"red\",\"width\":20.0},\"locationmode\":\"country names\",\"lon\":[-74.297333,-66.58973],\"mode\":\"lines\",\"name\":\"from Colombia to Venezuela 617 k people\",\"opacity\":0.6,\"text\":\"from Colombia to Venezuela 617 k people\",\"type\":\"scattergeo\"},{\"hoverinfo\":\"text\",\"lat\":[-23.442503,-38.416097],\"line\":{\"color\":\"red\",\"width\":10.738687870703723},\"locationmode\":\"country names\",\"lon\":[-58.44383199999999,-63.616671999999994],\"mode\":\"lines\",\"name\":\"from Paraguay to Argentina 331 k people\",\"opacity\":0.6,\"text\":\"from Paraguay to Argentina 331 k people\",\"type\":\"scattergeo\"},{\"hoverinfo\":\"text\",\"lat\":[-16.290154,-38.416097],\"line\":{\"color\":\"red\",\"width\":7.679977466393845},\"locationmode\":\"country names\",\"lon\":[-63.588653,-63.616671999999994],\"mode\":\"lines\",\"name\":\"from Bolivia to Argentina 237 k people\",\"opacity\":0.6,\"text\":\"from Bolivia to Argentina 237 k people\",\"type\":\"scattergeo\"},{\"hoverinfo\":\"text\",\"lat\":[-35.675146999999996,-38.416097],\"line\":{\"color\":\"red\",\"width\":7.09368282006786},\"locationmode\":\"country names\",\"lon\":[-71.542969,-63.616671999999994],\"mode\":\"lines\",\"name\":\"from Chile to Argentina 219 k people\",\"opacity\":0.6,\"text\":\"from Chile to Argentina 219 k people\",\"type\":\"scattergeo\"},{\"hoverinfo\":\"text\",\"lat\":[-32.522779,-38.416097],\"line\":{\"color\":\"red\",\"width\":3.8582001605843197},\"locationmode\":\"country names\",\"lon\":[-55.765834999999996,-63.616671999999994],\"mode\":\"lines\",\"name\":\"from Uruguay to Argentina 119 k people\",\"opacity\":0.6,\"text\":\"from Uruguay to Argentina 119 k people\",\"type\":\"scattergeo\"},{\"hoverinfo\":\"text\",\"lat\":[-9.189967,-38.416097],\"line\":{\"color\":\"red\",\"width\":2.9520966614001916},\"locationmode\":\"country names\",\"lon\":[-75.015152,-63.616671999999994],\"mode\":\"lines\",\"name\":\"from Peru to Argentina 91 k people\",\"opacity\":0.6,\"text\":\"from Peru to Argentina 91 k people\",\"type\":\"scattergeo\"},{\"hoverinfo\":\"text\",\"lat\":[-14.235004,-23.442503],\"line\":{\"color\":\"red\",\"width\":2.6867763992851406},\"locationmode\":\"country names\",\"lon\":[-51.92528,-58.44383199999999],\"mode\":\"lines\",\"name\":\"from Brazil to Paraguay 82 k people\",\"opacity\":0.6,\"text\":\"from Brazil to Paraguay 82 k people\",\"type\":\"scattergeo\"},{\"hoverinfo\":\"text\",\"lat\":[-38.416097,-23.442503],\"line\":{\"color\":\"red\",\"width\":2.081250485638064},\"locationmode\":\"country names\",\"lon\":[-63.616671999999994,-58.44383199999999],\"mode\":\"lines\",\"name\":\"from Argentina to Paraguay 64 k people\",\"opacity\":0.6,\"text\":\"from Argentina to Paraguay 64 k people\",\"type\":\"scattergeo\"},{\"hoverinfo\":\"text\",\"lat\":[4.570868,-1.8312389999999998],\"line\":{\"color\":\"red\",\"width\":1.6353052397109482},\"locationmode\":\"country names\",\"lon\":[-74.297333,-78.183406],\"mode\":\"lines\",\"name\":\"from Colombia to Ecuador 50 k people\",\"opacity\":0.6,\"text\":\"from Colombia to Ecuador 50 k people\",\"type\":\"scattergeo\"},{\"hoverinfo\":\"text\",\"lat\":[-38.416097,-35.675146999999996],\"line\":{\"color\":\"red\",\"width\":1.479998186951229},\"locationmode\":\"country names\",\"lon\":[-63.616671999999994,-71.542969],\"mode\":\"lines\",\"name\":\"from Argentina to Chile 45 k people\",\"opacity\":0.6,\"text\":\"from Argentina to Chile 45 k people\",\"type\":\"scattergeo\"},{\"hoverinfo\":\"text\",\"lat\":[6.42375,4.570868],\"line\":{\"color\":\"red\",\"width\":1.2033787458882643},\"locationmode\":\"country names\",\"lon\":[-66.58973,-74.297333],\"mode\":\"lines\",\"name\":\"from Venezuela to Colombia 37 k people\",\"opacity\":0.6,\"text\":\"from Venezuela to Colombia 37 k people\",\"type\":\"scattergeo\"},{\"hoverinfo\":\"text\",\"lat\":[-14.235004,-38.416097],\"line\":{\"color\":\"red\",\"width\":1.1792587220596236},\"locationmode\":\"country names\",\"lon\":[-51.92528,-63.616671999999994],\"mode\":\"lines\",\"name\":\"from Brazil to Argentina 36 k people\",\"opacity\":0.6,\"text\":\"from Brazil to Argentina 36 k people\",\"type\":\"scattergeo\"},{\"hoverinfo\":\"text\",\"lat\":[-9.189967,6.42375],\"line\":{\"color\":\"red\",\"width\":1.177672304384988},\"locationmode\":\"country names\",\"lon\":[-75.015152,-66.58973],\"mode\":\"lines\",\"name\":\"from Peru to Venezuela 36 k people\",\"opacity\":0.6,\"text\":\"from Peru to Venezuela 36 k people\",\"type\":\"scattergeo\"},{\"hoverinfo\":\"text\",\"lat\":[-9.189967,-35.675146999999996],\"line\":{\"color\":\"red\",\"width\":1.1466238441814085},\"locationmode\":\"country names\",\"lon\":[-75.015152,-71.542969],\"mode\":\"lines\",\"name\":\"from Peru to Chile 35 k people\",\"opacity\":0.6,\"text\":\"from Peru to Chile 35 k people\",\"type\":\"scattergeo\"},{\"hoverinfo\":\"text\",\"lat\":[-1.8312389999999998,6.42375],\"line\":{\"color\":\"red\",\"width\":0.9397744049314927},\"locationmode\":\"country names\",\"lon\":[-78.183406,-66.58973],\"mode\":\"lines\",\"name\":\"from Ecuador to Venezuela 29 k people\",\"opacity\":0.6,\"text\":\"from Ecuador to Venezuela 29 k people\",\"type\":\"scattergeo\"}],                        {\"font\":{\"color\":\"RebeccaPurple\",\"family\":\"Courier New, monospace\",\"size\":14},\"geo\":{\"countrycolor\":\"RebeccaPurple\",\"landcolor\":\"rgb(243, 243, 243)\",\"resolution\":50,\"scope\":\"south america\",\"showcountries\":true,\"showland\":true,\"visible\":true},\"height\":600,\"showlegend\":true,\"template\":{\"data\":{\"bar\":[{\"error_x\":{\"color\":\"rgb(36,36,36)\"},\"error_y\":{\"color\":\"rgb(36,36,36)\"},\"marker\":{\"line\":{\"color\":\"rgb(234,234,242)\",\"width\":0.5},\"pattern\":{\"fillmode\":\"overlay\",\"size\":10,\"solidity\":0.2}},\"type\":\"bar\"}],\"barpolar\":[{\"marker\":{\"line\":{\"color\":\"rgb(234,234,242)\",\"width\":0.5},\"pattern\":{\"fillmode\":\"overlay\",\"size\":10,\"solidity\":0.2}},\"type\":\"barpolar\"}],\"carpet\":[{\"aaxis\":{\"endlinecolor\":\"rgb(36,36,36)\",\"gridcolor\":\"white\",\"linecolor\":\"white\",\"minorgridcolor\":\"white\",\"startlinecolor\":\"rgb(36,36,36)\"},\"baxis\":{\"endlinecolor\":\"rgb(36,36,36)\",\"gridcolor\":\"white\",\"linecolor\":\"white\",\"minorgridcolor\":\"white\",\"startlinecolor\":\"rgb(36,36,36)\"},\"type\":\"carpet\"}],\"choropleth\":[{\"colorbar\":{\"outlinewidth\":0,\"tickcolor\":\"rgb(36,36,36)\",\"ticklen\":8,\"ticks\":\"outside\",\"tickwidth\":2},\"type\":\"choropleth\"}],\"contour\":[{\"colorbar\":{\"outlinewidth\":0,\"tickcolor\":\"rgb(36,36,36)\",\"ticklen\":8,\"ticks\":\"outside\",\"tickwidth\":2},\"colorscale\":[[0.0,\"rgb(2,4,25)\"],[0.06274509803921569,\"rgb(24,15,41)\"],[0.12549019607843137,\"rgb(47,23,57)\"],[0.18823529411764706,\"rgb(71,28,72)\"],[0.25098039215686274,\"rgb(97,30,82)\"],[0.3137254901960784,\"rgb(123,30,89)\"],[0.3764705882352941,\"rgb(150,27,91)\"],[0.4392156862745098,\"rgb(177,22,88)\"],[0.5019607843137255,\"rgb(203,26,79)\"],[0.5647058823529412,\"rgb(223,47,67)\"],[0.6274509803921569,\"rgb(236,76,61)\"],[0.6901960784313725,\"rgb(242,107,73)\"],[0.7529411764705882,\"rgb(244,135,95)\"],[0.8156862745098039,\"rgb(245,162,122)\"],[0.8784313725490196,\"rgb(246,188,153)\"],[0.9411764705882353,\"rgb(247,212,187)\"],[1.0,\"rgb(250,234,220)\"]],\"type\":\"contour\"}],\"contourcarpet\":[{\"colorbar\":{\"outlinewidth\":0,\"tickcolor\":\"rgb(36,36,36)\",\"ticklen\":8,\"ticks\":\"outside\",\"tickwidth\":2},\"type\":\"contourcarpet\"}],\"heatmap\":[{\"colorbar\":{\"outlinewidth\":0,\"tickcolor\":\"rgb(36,36,36)\",\"ticklen\":8,\"ticks\":\"outside\",\"tickwidth\":2},\"colorscale\":[[0.0,\"rgb(2,4,25)\"],[0.06274509803921569,\"rgb(24,15,41)\"],[0.12549019607843137,\"rgb(47,23,57)\"],[0.18823529411764706,\"rgb(71,28,72)\"],[0.25098039215686274,\"rgb(97,30,82)\"],[0.3137254901960784,\"rgb(123,30,89)\"],[0.3764705882352941,\"rgb(150,27,91)\"],[0.4392156862745098,\"rgb(177,22,88)\"],[0.5019607843137255,\"rgb(203,26,79)\"],[0.5647058823529412,\"rgb(223,47,67)\"],[0.6274509803921569,\"rgb(236,76,61)\"],[0.6901960784313725,\"rgb(242,107,73)\"],[0.7529411764705882,\"rgb(244,135,95)\"],[0.8156862745098039,\"rgb(245,162,122)\"],[0.8784313725490196,\"rgb(246,188,153)\"],[0.9411764705882353,\"rgb(247,212,187)\"],[1.0,\"rgb(250,234,220)\"]],\"type\":\"heatmap\"}],\"heatmapgl\":[{\"colorbar\":{\"outlinewidth\":0,\"tickcolor\":\"rgb(36,36,36)\",\"ticklen\":8,\"ticks\":\"outside\",\"tickwidth\":2},\"colorscale\":[[0.0,\"rgb(2,4,25)\"],[0.06274509803921569,\"rgb(24,15,41)\"],[0.12549019607843137,\"rgb(47,23,57)\"],[0.18823529411764706,\"rgb(71,28,72)\"],[0.25098039215686274,\"rgb(97,30,82)\"],[0.3137254901960784,\"rgb(123,30,89)\"],[0.3764705882352941,\"rgb(150,27,91)\"],[0.4392156862745098,\"rgb(177,22,88)\"],[0.5019607843137255,\"rgb(203,26,79)\"],[0.5647058823529412,\"rgb(223,47,67)\"],[0.6274509803921569,\"rgb(236,76,61)\"],[0.6901960784313725,\"rgb(242,107,73)\"],[0.7529411764705882,\"rgb(244,135,95)\"],[0.8156862745098039,\"rgb(245,162,122)\"],[0.8784313725490196,\"rgb(246,188,153)\"],[0.9411764705882353,\"rgb(247,212,187)\"],[1.0,\"rgb(250,234,220)\"]],\"type\":\"heatmapgl\"}],\"histogram\":[{\"marker\":{\"pattern\":{\"fillmode\":\"overlay\",\"size\":10,\"solidity\":0.2}},\"type\":\"histogram\"}],\"histogram2d\":[{\"colorbar\":{\"outlinewidth\":0,\"tickcolor\":\"rgb(36,36,36)\",\"ticklen\":8,\"ticks\":\"outside\",\"tickwidth\":2},\"colorscale\":[[0.0,\"rgb(2,4,25)\"],[0.06274509803921569,\"rgb(24,15,41)\"],[0.12549019607843137,\"rgb(47,23,57)\"],[0.18823529411764706,\"rgb(71,28,72)\"],[0.25098039215686274,\"rgb(97,30,82)\"],[0.3137254901960784,\"rgb(123,30,89)\"],[0.3764705882352941,\"rgb(150,27,91)\"],[0.4392156862745098,\"rgb(177,22,88)\"],[0.5019607843137255,\"rgb(203,26,79)\"],[0.5647058823529412,\"rgb(223,47,67)\"],[0.6274509803921569,\"rgb(236,76,61)\"],[0.6901960784313725,\"rgb(242,107,73)\"],[0.7529411764705882,\"rgb(244,135,95)\"],[0.8156862745098039,\"rgb(245,162,122)\"],[0.8784313725490196,\"rgb(246,188,153)\"],[0.9411764705882353,\"rgb(247,212,187)\"],[1.0,\"rgb(250,234,220)\"]],\"type\":\"histogram2d\"}],\"histogram2dcontour\":[{\"colorbar\":{\"outlinewidth\":0,\"tickcolor\":\"rgb(36,36,36)\",\"ticklen\":8,\"ticks\":\"outside\",\"tickwidth\":2},\"colorscale\":[[0.0,\"rgb(2,4,25)\"],[0.06274509803921569,\"rgb(24,15,41)\"],[0.12549019607843137,\"rgb(47,23,57)\"],[0.18823529411764706,\"rgb(71,28,72)\"],[0.25098039215686274,\"rgb(97,30,82)\"],[0.3137254901960784,\"rgb(123,30,89)\"],[0.3764705882352941,\"rgb(150,27,91)\"],[0.4392156862745098,\"rgb(177,22,88)\"],[0.5019607843137255,\"rgb(203,26,79)\"],[0.5647058823529412,\"rgb(223,47,67)\"],[0.6274509803921569,\"rgb(236,76,61)\"],[0.6901960784313725,\"rgb(242,107,73)\"],[0.7529411764705882,\"rgb(244,135,95)\"],[0.8156862745098039,\"rgb(245,162,122)\"],[0.8784313725490196,\"rgb(246,188,153)\"],[0.9411764705882353,\"rgb(247,212,187)\"],[1.0,\"rgb(250,234,220)\"]],\"type\":\"histogram2dcontour\"}],\"mesh3d\":[{\"colorbar\":{\"outlinewidth\":0,\"tickcolor\":\"rgb(36,36,36)\",\"ticklen\":8,\"ticks\":\"outside\",\"tickwidth\":2},\"type\":\"mesh3d\"}],\"parcoords\":[{\"line\":{\"colorbar\":{\"outlinewidth\":0,\"tickcolor\":\"rgb(36,36,36)\",\"ticklen\":8,\"ticks\":\"outside\",\"tickwidth\":2}},\"type\":\"parcoords\"}],\"pie\":[{\"automargin\":true,\"type\":\"pie\"}],\"scatter\":[{\"marker\":{\"colorbar\":{\"outlinewidth\":0,\"tickcolor\":\"rgb(36,36,36)\",\"ticklen\":8,\"ticks\":\"outside\",\"tickwidth\":2}},\"type\":\"scatter\"}],\"scatter3d\":[{\"line\":{\"colorbar\":{\"outlinewidth\":0,\"tickcolor\":\"rgb(36,36,36)\",\"ticklen\":8,\"ticks\":\"outside\",\"tickwidth\":2}},\"marker\":{\"colorbar\":{\"outlinewidth\":0,\"tickcolor\":\"rgb(36,36,36)\",\"ticklen\":8,\"ticks\":\"outside\",\"tickwidth\":2}},\"type\":\"scatter3d\"}],\"scattercarpet\":[{\"marker\":{\"colorbar\":{\"outlinewidth\":0,\"tickcolor\":\"rgb(36,36,36)\",\"ticklen\":8,\"ticks\":\"outside\",\"tickwidth\":2}},\"type\":\"scattercarpet\"}],\"scattergeo\":[{\"marker\":{\"colorbar\":{\"outlinewidth\":0,\"tickcolor\":\"rgb(36,36,36)\",\"ticklen\":8,\"ticks\":\"outside\",\"tickwidth\":2}},\"type\":\"scattergeo\"}],\"scattergl\":[{\"marker\":{\"colorbar\":{\"outlinewidth\":0,\"tickcolor\":\"rgb(36,36,36)\",\"ticklen\":8,\"ticks\":\"outside\",\"tickwidth\":2}},\"type\":\"scattergl\"}],\"scattermapbox\":[{\"marker\":{\"colorbar\":{\"outlinewidth\":0,\"tickcolor\":\"rgb(36,36,36)\",\"ticklen\":8,\"ticks\":\"outside\",\"tickwidth\":2}},\"type\":\"scattermapbox\"}],\"scatterpolar\":[{\"marker\":{\"colorbar\":{\"outlinewidth\":0,\"tickcolor\":\"rgb(36,36,36)\",\"ticklen\":8,\"ticks\":\"outside\",\"tickwidth\":2}},\"type\":\"scatterpolar\"}],\"scatterpolargl\":[{\"marker\":{\"colorbar\":{\"outlinewidth\":0,\"tickcolor\":\"rgb(36,36,36)\",\"ticklen\":8,\"ticks\":\"outside\",\"tickwidth\":2}},\"type\":\"scatterpolargl\"}],\"scatterternary\":[{\"marker\":{\"colorbar\":{\"outlinewidth\":0,\"tickcolor\":\"rgb(36,36,36)\",\"ticklen\":8,\"ticks\":\"outside\",\"tickwidth\":2}},\"type\":\"scatterternary\"}],\"surface\":[{\"colorbar\":{\"outlinewidth\":0,\"tickcolor\":\"rgb(36,36,36)\",\"ticklen\":8,\"ticks\":\"outside\",\"tickwidth\":2},\"colorscale\":[[0.0,\"rgb(2,4,25)\"],[0.06274509803921569,\"rgb(24,15,41)\"],[0.12549019607843137,\"rgb(47,23,57)\"],[0.18823529411764706,\"rgb(71,28,72)\"],[0.25098039215686274,\"rgb(97,30,82)\"],[0.3137254901960784,\"rgb(123,30,89)\"],[0.3764705882352941,\"rgb(150,27,91)\"],[0.4392156862745098,\"rgb(177,22,88)\"],[0.5019607843137255,\"rgb(203,26,79)\"],[0.5647058823529412,\"rgb(223,47,67)\"],[0.6274509803921569,\"rgb(236,76,61)\"],[0.6901960784313725,\"rgb(242,107,73)\"],[0.7529411764705882,\"rgb(244,135,95)\"],[0.8156862745098039,\"rgb(245,162,122)\"],[0.8784313725490196,\"rgb(246,188,153)\"],[0.9411764705882353,\"rgb(247,212,187)\"],[1.0,\"rgb(250,234,220)\"]],\"type\":\"surface\"}],\"table\":[{\"cells\":{\"fill\":{\"color\":\"rgb(231,231,240)\"},\"line\":{\"color\":\"white\"}},\"header\":{\"fill\":{\"color\":\"rgb(183,183,191)\"},\"line\":{\"color\":\"white\"}},\"type\":\"table\"}]},\"layout\":{\"annotationdefaults\":{\"arrowcolor\":\"rgb(67,103,167)\"},\"autotypenumbers\":\"strict\",\"coloraxis\":{\"colorbar\":{\"outlinewidth\":0,\"tickcolor\":\"rgb(36,36,36)\",\"ticklen\":8,\"ticks\":\"outside\",\"tickwidth\":2}},\"colorscale\":{\"sequential\":[[0.0,\"rgb(2,4,25)\"],[0.06274509803921569,\"rgb(24,15,41)\"],[0.12549019607843137,\"rgb(47,23,57)\"],[0.18823529411764706,\"rgb(71,28,72)\"],[0.25098039215686274,\"rgb(97,30,82)\"],[0.3137254901960784,\"rgb(123,30,89)\"],[0.3764705882352941,\"rgb(150,27,91)\"],[0.4392156862745098,\"rgb(177,22,88)\"],[0.5019607843137255,\"rgb(203,26,79)\"],[0.5647058823529412,\"rgb(223,47,67)\"],[0.6274509803921569,\"rgb(236,76,61)\"],[0.6901960784313725,\"rgb(242,107,73)\"],[0.7529411764705882,\"rgb(244,135,95)\"],[0.8156862745098039,\"rgb(245,162,122)\"],[0.8784313725490196,\"rgb(246,188,153)\"],[0.9411764705882353,\"rgb(247,212,187)\"],[1.0,\"rgb(250,234,220)\"]],\"sequentialminus\":[[0.0,\"rgb(2,4,25)\"],[0.06274509803921569,\"rgb(24,15,41)\"],[0.12549019607843137,\"rgb(47,23,57)\"],[0.18823529411764706,\"rgb(71,28,72)\"],[0.25098039215686274,\"rgb(97,30,82)\"],[0.3137254901960784,\"rgb(123,30,89)\"],[0.3764705882352941,\"rgb(150,27,91)\"],[0.4392156862745098,\"rgb(177,22,88)\"],[0.5019607843137255,\"rgb(203,26,79)\"],[0.5647058823529412,\"rgb(223,47,67)\"],[0.6274509803921569,\"rgb(236,76,61)\"],[0.6901960784313725,\"rgb(242,107,73)\"],[0.7529411764705882,\"rgb(244,135,95)\"],[0.8156862745098039,\"rgb(245,162,122)\"],[0.8784313725490196,\"rgb(246,188,153)\"],[0.9411764705882353,\"rgb(247,212,187)\"],[1.0,\"rgb(250,234,220)\"]]},\"colorway\":[\"rgb(76,114,176)\",\"rgb(221,132,82)\",\"rgb(85,168,104)\",\"rgb(196,78,82)\",\"rgb(129,114,179)\",\"rgb(147,120,96)\",\"rgb(218,139,195)\",\"rgb(140,140,140)\",\"rgb(204,185,116)\",\"rgb(100,181,205)\"],\"font\":{\"color\":\"rgb(36,36,36)\"},\"geo\":{\"bgcolor\":\"white\",\"lakecolor\":\"white\",\"landcolor\":\"rgb(234,234,242)\",\"showlakes\":true,\"showland\":true,\"subunitcolor\":\"white\"},\"hoverlabel\":{\"align\":\"left\"},\"hovermode\":\"closest\",\"paper_bgcolor\":\"white\",\"plot_bgcolor\":\"rgb(234,234,242)\",\"polar\":{\"angularaxis\":{\"gridcolor\":\"white\",\"linecolor\":\"white\",\"showgrid\":true,\"ticks\":\"\"},\"bgcolor\":\"rgb(234,234,242)\",\"radialaxis\":{\"gridcolor\":\"white\",\"linecolor\":\"white\",\"showgrid\":true,\"ticks\":\"\"}},\"scene\":{\"xaxis\":{\"backgroundcolor\":\"rgb(234,234,242)\",\"gridcolor\":\"white\",\"gridwidth\":2,\"linecolor\":\"white\",\"showbackground\":true,\"showgrid\":true,\"ticks\":\"\",\"zerolinecolor\":\"white\"},\"yaxis\":{\"backgroundcolor\":\"rgb(234,234,242)\",\"gridcolor\":\"white\",\"gridwidth\":2,\"linecolor\":\"white\",\"showbackground\":true,\"showgrid\":true,\"ticks\":\"\",\"zerolinecolor\":\"white\"},\"zaxis\":{\"backgroundcolor\":\"rgb(234,234,242)\",\"gridcolor\":\"white\",\"gridwidth\":2,\"linecolor\":\"white\",\"showbackground\":true,\"showgrid\":true,\"ticks\":\"\",\"zerolinecolor\":\"white\"}},\"shapedefaults\":{\"fillcolor\":\"rgb(67,103,167)\",\"line\":{\"width\":0},\"opacity\":0.5},\"ternary\":{\"aaxis\":{\"gridcolor\":\"white\",\"linecolor\":\"white\",\"showgrid\":true,\"ticks\":\"\"},\"baxis\":{\"gridcolor\":\"white\",\"linecolor\":\"white\",\"showgrid\":true,\"ticks\":\"\"},\"bgcolor\":\"rgb(234,234,242)\",\"caxis\":{\"gridcolor\":\"white\",\"linecolor\":\"white\",\"showgrid\":true,\"ticks\":\"\"}},\"xaxis\":{\"automargin\":true,\"gridcolor\":\"white\",\"linecolor\":\"white\",\"showgrid\":true,\"ticks\":\"\",\"title\":{\"standoff\":15},\"zerolinecolor\":\"white\"},\"yaxis\":{\"automargin\":true,\"gridcolor\":\"white\",\"linecolor\":\"white\",\"showgrid\":true,\"ticks\":\"\",\"title\":{\"standoff\":15},\"zerolinecolor\":\"white\"}}},\"title\":{\"text\":\"Main migrations in South America during the 2000s\",\"x\":0.5,\"xanchor\":\"center\",\"y\":0.86,\"yanchor\":\"top\"}},                        {\"responsive\": true}                    ).then(function(){\n",
       "                            \n",
       "var gd = document.getElementById('74e07fa7-bcfd-4b5d-b818-51aeb5f57f62');\n",
       "var x = new MutationObserver(function (mutations, observer) {{\n",
       "        var display = window.getComputedStyle(gd).display;\n",
       "        if (!display || display === 'none') {{\n",
       "            console.log([gd, 'removed!']);\n",
       "            Plotly.purge(gd);\n",
       "            observer.disconnect();\n",
       "        }}\n",
       "}});\n",
       "\n",
       "// Listen for the removal of the full notebook cells\n",
       "var notebookContainer = gd.closest('#notebook-container');\n",
       "if (notebookContainer) {{\n",
       "    x.observe(notebookContainer, {childList: true});\n",
       "}}\n",
       "\n",
       "// Listen for the clearing of the current output cell\n",
       "var outputEl = gd.closest('.output');\n",
       "if (outputEl) {{\n",
       "    x.observe(outputEl, {childList: true});\n",
       "}}\n",
       "\n",
       "                        })                };                });            </script>        </div>"
      ]
     },
     "metadata": {},
     "output_type": "display_data"
    },
    {
     "name": "stdout",
     "output_type": "stream",
     "text": [
      "Despite the deep economic crisis that Argentina undergoes since the 2000s, it is still an important destination for limiting countries \n"
     ]
    }
   ],
   "source": [
    "import plotly.graph_objects as go\n",
    "\n",
    "df = largest_migrations_latin_america.head(15)       \n",
    "fig = go.Figure()\n",
    "\n",
    "\n",
    "fig.add_trace(go.Scattergeo(\n",
    "    \n",
    "    locationmode = 'country names',\n",
    "    locations = df['origin_name'].append(df['dest_name']),\n",
    "    hoverinfo = 'skip',\n",
    "    #text = df['description']  ,#.append(df['dest_name']),\n",
    "    mode = 'markers',\n",
    "    name = 'Countries',\n",
    "    marker = dict(\n",
    "        size = 7,\n",
    "        color = 'rgb(255, 0, 0)',\n",
    "        line = dict(\n",
    "            width = 3,\n",
    "            color = 'rgba(68, 68, 68, 0)'\n",
    "        )\n",
    "       \n",
    "    )))\n",
    "\n",
    "for i in range(len(df)):\n",
    "    fig.add_trace(\n",
    "        go.Scattergeo(\n",
    "            locationmode = 'country names',\n",
    "            lat = [df['lat_origin'].iloc[i], df['lat_dest'].iloc[i]],\n",
    "            lon = [df['lon_origin'].iloc[i], df['lon_dest'].iloc[i]],\n",
    "            hoverinfo = 'text',\n",
    "            text = df['description'].iloc[i],\n",
    "            mode = 'lines',\n",
    "            line = dict(width = ((df['2000'].iloc[i] )/df['2000'].max())*20,color = 'red'),\n",
    "            opacity = 0.6,\n",
    "            name=df['description'].iloc[i],\n",
    "            \n",
    "        )\n",
    "    )\n",
    "\n",
    "fig.update_layout(\n",
    "    title={\n",
    "        'text': \"Main migrations in South America during the 2000s\",\n",
    "        'y':0.86,\n",
    "        'x':0.5,\n",
    "        'xanchor': 'center',\n",
    "        'yanchor': 'top'},    \n",
    "        template=\"seaborn\",\n",
    "        font=dict(\n",
    "        family=\"Courier New, monospace\",\n",
    "        size=14,\n",
    "        color=\"RebeccaPurple\"\n",
    "    ),\n",
    "    showlegend = True,\n",
    "    geo = go.layout.Geo(\n",
    "        scope = 'south america',\n",
    "        #projection_type = 'azimuthal equal area',\n",
    "        showland = True,\n",
    "        landcolor = 'rgb(243, 243, 243)',\n",
    "        countrycolor = 'rgb(204, 204, 204)',\n",
    "    ),\n",
    "    height=600,\n",
    ")\n",
    "\n",
    "\n",
    "fig.update_geos(\n",
    "    visible=True, resolution=50,\n",
    "    showcountries=True, countrycolor=\"RebeccaPurple\"\n",
    ")\n",
    "\n",
    "\n",
    "fig.show()\n",
    "print('Despite the deep economic crisis that Argentina undergoes since the 2000s, it is still an important destination for limiting countries ')\n"
   ]
  },
  {
   "cell_type": "markdown",
   "metadata": {},
   "source": [
    "## Argentinian migration: Who moves to Argentina? Where argentines emigrate most?"
   ]
  },
  {
   "cell_type": "code",
   "execution_count": 883,
   "metadata": {},
   "outputs": [],
   "source": [
    "# countries with less than 'others_threshold' migrants are not considered\n",
    "others_threshold = 4000\n",
    "\n",
    "dest_arg = migration[(migration['origin_name']=='Argentina') & (migration['gender']=='Total')][['lat_dest','lon_dest','dest_name','2000']].sort_values('2000',ascending=False)\n",
    "destination_arg = dest_arg.loc[(dest_arg[\"2000\"] > others_threshold)]\n",
    "\n",
    "orig_arg = migration[(mig_arg['dest_name']=='Argentina') & (migration['gender']=='Total')][['lat_origin','lon_origin','origin_name','2000']].sort_values('2000',ascending=False)\n",
    "origin_arg = orig_arg.loc[(orig_arg[\"2000\"] > others_threshold)]"
   ]
  },
  {
   "cell_type": "code",
   "execution_count": 895,
   "metadata": {},
   "outputs": [
    {
     "data": {
      "application/vnd.plotly.v1+json": {
       "config": {
        "plotlyServerURL": "https://plot.ly"
       },
       "data": [
        {
         "marker": {
          "color": "cyan"
         },
         "showlegend": false,
         "type": "bar",
         "x": [
          "United States",
          "Spain",
          "Paraguay",
          "Chile",
          "Israel",
          "Bolivia",
          "Brazil",
          "Uruguay",
          "Italy",
          "France",
          "Canada",
          "Australia",
          "United Kingdom",
          "Venezuela",
          "Mexico",
          "Germany"
         ],
         "xaxis": "x",
         "y": [
          133210,
          83803,
          64284,
          45713,
          36951,
          27612,
          27553,
          25146,
          20311,
          17999,
          13536,
          10749,
          10198,
          8733,
          6564,
          5112
         ],
         "yaxis": "y"
        },
        {
         "marker": {
          "color": "crimson"
         },
         "name": "222",
         "showlegend": false,
         "type": "bar",
         "x": [
          "Paraguay",
          "Bolivia",
          "Italy",
          "Chile",
          "Spain",
          "Uruguay",
          "Peru",
          "Brazil",
          "Poland",
          "Germany",
          "United States",
          "Ukraine",
          "Portugal",
          "South Korea",
          "France",
          "Japan",
          "Colombia",
          "China"
         ],
         "xaxis": "x2",
         "y": [
          331688,
          237213,
          224155,
          219104,
          137084,
          119169,
          91182,
          36424,
          14469,
          10420,
          10338,
          9498,
          9019,
          8201,
          7332,
          5348,
          4264,
          4039
         ],
         "yaxis": "y2"
        },
        {
         "hoverinfo": "text",
         "locationmode": "country names",
         "locations": [
          "Paraguay",
          "Bolivia",
          "Italy",
          "Chile",
          "Spain",
          "Uruguay",
          "Peru",
          "Brazil",
          "Poland",
          "Germany",
          "United States",
          "Ukraine",
          "Portugal",
          "South Korea",
          "France",
          "Japan",
          "Colombia",
          "China"
         ],
         "marker": {
          "color": "rgb(255, 0, 0)",
          "line": {
           "color": "rgba(68, 68, 68, 0)",
           "width": 3
          },
          "size": [
           16.5844,
           11.86065,
           11.20775,
           10.9552,
           6.8542,
           5.95845,
           4.5591,
           1.8212,
           0.72345,
           0.521,
           0.5169,
           0.4749,
           0.45095,
           0.41005,
           0.3666,
           0.2674,
           0.2132,
           0.20195
          ]
         },
         "mode": "markers",
         "text": [
          "Paraguay",
          "Bolivia",
          "Italy",
          "Chile",
          "Spain",
          "Uruguay",
          "Peru",
          "Brazil",
          "Poland",
          "Germany",
          "United States",
          "Ukraine",
          "Portugal",
          "South Korea",
          "France",
          "Japan",
          "Colombia",
          "China"
         ],
         "type": "scattergeo"
        },
        {
         "hoverinfo": "text",
         "locationmode": "country names",
         "locations": [
          "United States",
          "Spain",
          "Paraguay",
          "Chile",
          "Israel",
          "Bolivia",
          "Brazil",
          "Uruguay",
          "Italy",
          "France",
          "Canada",
          "Australia",
          "United Kingdom",
          "Venezuela",
          "Mexico",
          "Germany"
         ],
         "marker": {
          "color": "rgb(255, 0, 0)",
          "line": {
           "color": "cyan",
           "width": 3
          },
          "size": [
           6.6605,
           4.19015,
           3.2142,
           2.28565,
           1.84755,
           1.3806,
           1.37765,
           1.2573,
           1.01555,
           0.89995,
           0.6768,
           0.53745,
           0.5099,
           0.43665,
           0.3282,
           0.2556
          ]
         },
         "mode": "markers",
         "text": [
          "United States",
          "Spain",
          "Paraguay",
          "Chile",
          "Israel",
          "Bolivia",
          "Brazil",
          "Uruguay",
          "Italy",
          "France",
          "Canada",
          "Australia",
          "United Kingdom",
          "Venezuela",
          "Mexico",
          "Germany"
         ],
         "type": "scattergeo"
        }
       ],
       "layout": {
        "annotations": [
         {
          "font": {
           "size": 12
          },
          "showarrow": false,
          "text": "Source: UN",
          "x": 0.046,
          "xanchor": "center",
          "xref": "paper",
          "y": -0.17,
          "yanchor": "bottom",
          "yref": "paper"
         },
         {
          "font": {
           "size": 16
          },
          "showarrow": false,
          "text": "Emigration",
          "x": 0.82,
          "xanchor": "center",
          "xref": "paper",
          "y": 0.99,
          "yanchor": "bottom",
          "yref": "paper"
         },
         {
          "font": {
           "size": 16
          },
          "showarrow": false,
          "text": "Inmigration",
          "x": 0.82,
          "xanchor": "center",
          "xref": "paper",
          "y": 0.45,
          "yanchor": "bottom",
          "yref": "paper"
         }
        ],
        "geo": {
         "domain": {
          "x": [
           0,
           0.54
          ],
          "y": [
           0,
           1
          ]
         }
        },
        "height": 500,
        "margin": {
         "b": 10,
         "l": 55,
         "r": 12,
         "t": 85
        },
        "showlegend": false,
        "template": {
         "data": {
          "bar": [
           {
            "error_x": {
             "color": "#f2f5fa"
            },
            "error_y": {
             "color": "#f2f5fa"
            },
            "marker": {
             "line": {
              "color": "rgb(17,17,17)",
              "width": 0.5
             },
             "pattern": {
              "fillmode": "overlay",
              "size": 10,
              "solidity": 0.2
             }
            },
            "type": "bar"
           }
          ],
          "barpolar": [
           {
            "marker": {
             "line": {
              "color": "rgb(17,17,17)",
              "width": 0.5
             },
             "pattern": {
              "fillmode": "overlay",
              "size": 10,
              "solidity": 0.2
             }
            },
            "type": "barpolar"
           }
          ],
          "carpet": [
           {
            "aaxis": {
             "endlinecolor": "#A2B1C6",
             "gridcolor": "#506784",
             "linecolor": "#506784",
             "minorgridcolor": "#506784",
             "startlinecolor": "#A2B1C6"
            },
            "baxis": {
             "endlinecolor": "#A2B1C6",
             "gridcolor": "#506784",
             "linecolor": "#506784",
             "minorgridcolor": "#506784",
             "startlinecolor": "#A2B1C6"
            },
            "type": "carpet"
           }
          ],
          "choropleth": [
           {
            "colorbar": {
             "outlinewidth": 0,
             "ticks": ""
            },
            "type": "choropleth"
           }
          ],
          "contour": [
           {
            "colorbar": {
             "outlinewidth": 0,
             "ticks": ""
            },
            "colorscale": [
             [
              0,
              "#0d0887"
             ],
             [
              0.1111111111111111,
              "#46039f"
             ],
             [
              0.2222222222222222,
              "#7201a8"
             ],
             [
              0.3333333333333333,
              "#9c179e"
             ],
             [
              0.4444444444444444,
              "#bd3786"
             ],
             [
              0.5555555555555556,
              "#d8576b"
             ],
             [
              0.6666666666666666,
              "#ed7953"
             ],
             [
              0.7777777777777778,
              "#fb9f3a"
             ],
             [
              0.8888888888888888,
              "#fdca26"
             ],
             [
              1,
              "#f0f921"
             ]
            ],
            "type": "contour"
           }
          ],
          "contourcarpet": [
           {
            "colorbar": {
             "outlinewidth": 0,
             "ticks": ""
            },
            "type": "contourcarpet"
           }
          ],
          "heatmap": [
           {
            "colorbar": {
             "outlinewidth": 0,
             "ticks": ""
            },
            "colorscale": [
             [
              0,
              "#0d0887"
             ],
             [
              0.1111111111111111,
              "#46039f"
             ],
             [
              0.2222222222222222,
              "#7201a8"
             ],
             [
              0.3333333333333333,
              "#9c179e"
             ],
             [
              0.4444444444444444,
              "#bd3786"
             ],
             [
              0.5555555555555556,
              "#d8576b"
             ],
             [
              0.6666666666666666,
              "#ed7953"
             ],
             [
              0.7777777777777778,
              "#fb9f3a"
             ],
             [
              0.8888888888888888,
              "#fdca26"
             ],
             [
              1,
              "#f0f921"
             ]
            ],
            "type": "heatmap"
           }
          ],
          "heatmapgl": [
           {
            "colorbar": {
             "outlinewidth": 0,
             "ticks": ""
            },
            "colorscale": [
             [
              0,
              "#0d0887"
             ],
             [
              0.1111111111111111,
              "#46039f"
             ],
             [
              0.2222222222222222,
              "#7201a8"
             ],
             [
              0.3333333333333333,
              "#9c179e"
             ],
             [
              0.4444444444444444,
              "#bd3786"
             ],
             [
              0.5555555555555556,
              "#d8576b"
             ],
             [
              0.6666666666666666,
              "#ed7953"
             ],
             [
              0.7777777777777778,
              "#fb9f3a"
             ],
             [
              0.8888888888888888,
              "#fdca26"
             ],
             [
              1,
              "#f0f921"
             ]
            ],
            "type": "heatmapgl"
           }
          ],
          "histogram": [
           {
            "marker": {
             "pattern": {
              "fillmode": "overlay",
              "size": 10,
              "solidity": 0.2
             }
            },
            "type": "histogram"
           }
          ],
          "histogram2d": [
           {
            "colorbar": {
             "outlinewidth": 0,
             "ticks": ""
            },
            "colorscale": [
             [
              0,
              "#0d0887"
             ],
             [
              0.1111111111111111,
              "#46039f"
             ],
             [
              0.2222222222222222,
              "#7201a8"
             ],
             [
              0.3333333333333333,
              "#9c179e"
             ],
             [
              0.4444444444444444,
              "#bd3786"
             ],
             [
              0.5555555555555556,
              "#d8576b"
             ],
             [
              0.6666666666666666,
              "#ed7953"
             ],
             [
              0.7777777777777778,
              "#fb9f3a"
             ],
             [
              0.8888888888888888,
              "#fdca26"
             ],
             [
              1,
              "#f0f921"
             ]
            ],
            "type": "histogram2d"
           }
          ],
          "histogram2dcontour": [
           {
            "colorbar": {
             "outlinewidth": 0,
             "ticks": ""
            },
            "colorscale": [
             [
              0,
              "#0d0887"
             ],
             [
              0.1111111111111111,
              "#46039f"
             ],
             [
              0.2222222222222222,
              "#7201a8"
             ],
             [
              0.3333333333333333,
              "#9c179e"
             ],
             [
              0.4444444444444444,
              "#bd3786"
             ],
             [
              0.5555555555555556,
              "#d8576b"
             ],
             [
              0.6666666666666666,
              "#ed7953"
             ],
             [
              0.7777777777777778,
              "#fb9f3a"
             ],
             [
              0.8888888888888888,
              "#fdca26"
             ],
             [
              1,
              "#f0f921"
             ]
            ],
            "type": "histogram2dcontour"
           }
          ],
          "mesh3d": [
           {
            "colorbar": {
             "outlinewidth": 0,
             "ticks": ""
            },
            "type": "mesh3d"
           }
          ],
          "parcoords": [
           {
            "line": {
             "colorbar": {
              "outlinewidth": 0,
              "ticks": ""
             }
            },
            "type": "parcoords"
           }
          ],
          "pie": [
           {
            "automargin": true,
            "type": "pie"
           }
          ],
          "scatter": [
           {
            "marker": {
             "line": {
              "color": "#283442"
             }
            },
            "type": "scatter"
           }
          ],
          "scatter3d": [
           {
            "line": {
             "colorbar": {
              "outlinewidth": 0,
              "ticks": ""
             }
            },
            "marker": {
             "colorbar": {
              "outlinewidth": 0,
              "ticks": ""
             }
            },
            "type": "scatter3d"
           }
          ],
          "scattercarpet": [
           {
            "marker": {
             "colorbar": {
              "outlinewidth": 0,
              "ticks": ""
             }
            },
            "type": "scattercarpet"
           }
          ],
          "scattergeo": [
           {
            "marker": {
             "colorbar": {
              "outlinewidth": 0,
              "ticks": ""
             }
            },
            "type": "scattergeo"
           }
          ],
          "scattergl": [
           {
            "marker": {
             "line": {
              "color": "#283442"
             }
            },
            "type": "scattergl"
           }
          ],
          "scattermapbox": [
           {
            "marker": {
             "colorbar": {
              "outlinewidth": 0,
              "ticks": ""
             }
            },
            "type": "scattermapbox"
           }
          ],
          "scatterpolar": [
           {
            "marker": {
             "colorbar": {
              "outlinewidth": 0,
              "ticks": ""
             }
            },
            "type": "scatterpolar"
           }
          ],
          "scatterpolargl": [
           {
            "marker": {
             "colorbar": {
              "outlinewidth": 0,
              "ticks": ""
             }
            },
            "type": "scatterpolargl"
           }
          ],
          "scatterternary": [
           {
            "marker": {
             "colorbar": {
              "outlinewidth": 0,
              "ticks": ""
             }
            },
            "type": "scatterternary"
           }
          ],
          "surface": [
           {
            "colorbar": {
             "outlinewidth": 0,
             "ticks": ""
            },
            "colorscale": [
             [
              0,
              "#0d0887"
             ],
             [
              0.1111111111111111,
              "#46039f"
             ],
             [
              0.2222222222222222,
              "#7201a8"
             ],
             [
              0.3333333333333333,
              "#9c179e"
             ],
             [
              0.4444444444444444,
              "#bd3786"
             ],
             [
              0.5555555555555556,
              "#d8576b"
             ],
             [
              0.6666666666666666,
              "#ed7953"
             ],
             [
              0.7777777777777778,
              "#fb9f3a"
             ],
             [
              0.8888888888888888,
              "#fdca26"
             ],
             [
              1,
              "#f0f921"
             ]
            ],
            "type": "surface"
           }
          ],
          "table": [
           {
            "cells": {
             "fill": {
              "color": "#506784"
             },
             "line": {
              "color": "rgb(17,17,17)"
             }
            },
            "header": {
             "fill": {
              "color": "#2a3f5f"
             },
             "line": {
              "color": "rgb(17,17,17)"
             }
            },
            "type": "table"
           }
          ]
         },
         "layout": {
          "annotationdefaults": {
           "arrowcolor": "#f2f5fa",
           "arrowhead": 0,
           "arrowwidth": 1
          },
          "autotypenumbers": "strict",
          "coloraxis": {
           "colorbar": {
            "outlinewidth": 0,
            "ticks": ""
           }
          },
          "colorscale": {
           "diverging": [
            [
             0,
             "#8e0152"
            ],
            [
             0.1,
             "#c51b7d"
            ],
            [
             0.2,
             "#de77ae"
            ],
            [
             0.3,
             "#f1b6da"
            ],
            [
             0.4,
             "#fde0ef"
            ],
            [
             0.5,
             "#f7f7f7"
            ],
            [
             0.6,
             "#e6f5d0"
            ],
            [
             0.7,
             "#b8e186"
            ],
            [
             0.8,
             "#7fbc41"
            ],
            [
             0.9,
             "#4d9221"
            ],
            [
             1,
             "#276419"
            ]
           ],
           "sequential": [
            [
             0,
             "#0d0887"
            ],
            [
             0.1111111111111111,
             "#46039f"
            ],
            [
             0.2222222222222222,
             "#7201a8"
            ],
            [
             0.3333333333333333,
             "#9c179e"
            ],
            [
             0.4444444444444444,
             "#bd3786"
            ],
            [
             0.5555555555555556,
             "#d8576b"
            ],
            [
             0.6666666666666666,
             "#ed7953"
            ],
            [
             0.7777777777777778,
             "#fb9f3a"
            ],
            [
             0.8888888888888888,
             "#fdca26"
            ],
            [
             1,
             "#f0f921"
            ]
           ],
           "sequentialminus": [
            [
             0,
             "#0d0887"
            ],
            [
             0.1111111111111111,
             "#46039f"
            ],
            [
             0.2222222222222222,
             "#7201a8"
            ],
            [
             0.3333333333333333,
             "#9c179e"
            ],
            [
             0.4444444444444444,
             "#bd3786"
            ],
            [
             0.5555555555555556,
             "#d8576b"
            ],
            [
             0.6666666666666666,
             "#ed7953"
            ],
            [
             0.7777777777777778,
             "#fb9f3a"
            ],
            [
             0.8888888888888888,
             "#fdca26"
            ],
            [
             1,
             "#f0f921"
            ]
           ]
          },
          "colorway": [
           "#636efa",
           "#EF553B",
           "#00cc96",
           "#ab63fa",
           "#FFA15A",
           "#19d3f3",
           "#FF6692",
           "#B6E880",
           "#FF97FF",
           "#FECB52"
          ],
          "font": {
           "color": "#f2f5fa"
          },
          "geo": {
           "bgcolor": "rgb(17,17,17)",
           "lakecolor": "rgb(17,17,17)",
           "landcolor": "rgb(17,17,17)",
           "showlakes": true,
           "showland": true,
           "subunitcolor": "#506784"
          },
          "hoverlabel": {
           "align": "left"
          },
          "hovermode": "closest",
          "mapbox": {
           "style": "dark"
          },
          "paper_bgcolor": "rgb(17,17,17)",
          "plot_bgcolor": "rgb(17,17,17)",
          "polar": {
           "angularaxis": {
            "gridcolor": "#506784",
            "linecolor": "#506784",
            "ticks": ""
           },
           "bgcolor": "rgb(17,17,17)",
           "radialaxis": {
            "gridcolor": "#506784",
            "linecolor": "#506784",
            "ticks": ""
           }
          },
          "scene": {
           "xaxis": {
            "backgroundcolor": "rgb(17,17,17)",
            "gridcolor": "#506784",
            "gridwidth": 2,
            "linecolor": "#506784",
            "showbackground": true,
            "ticks": "",
            "zerolinecolor": "#C8D4E3"
           },
           "yaxis": {
            "backgroundcolor": "rgb(17,17,17)",
            "gridcolor": "#506784",
            "gridwidth": 2,
            "linecolor": "#506784",
            "showbackground": true,
            "ticks": "",
            "zerolinecolor": "#C8D4E3"
           },
           "zaxis": {
            "backgroundcolor": "rgb(17,17,17)",
            "gridcolor": "#506784",
            "gridwidth": 2,
            "linecolor": "#506784",
            "showbackground": true,
            "ticks": "",
            "zerolinecolor": "#C8D4E3"
           }
          },
          "shapedefaults": {
           "line": {
            "color": "#f2f5fa"
           }
          },
          "sliderdefaults": {
           "bgcolor": "#C8D4E3",
           "bordercolor": "rgb(17,17,17)",
           "borderwidth": 1,
           "tickwidth": 0
          },
          "ternary": {
           "aaxis": {
            "gridcolor": "#506784",
            "linecolor": "#506784",
            "ticks": ""
           },
           "baxis": {
            "gridcolor": "#506784",
            "linecolor": "#506784",
            "ticks": ""
           },
           "bgcolor": "rgb(17,17,17)",
           "caxis": {
            "gridcolor": "#506784",
            "linecolor": "#506784",
            "ticks": ""
           }
          },
          "title": {
           "x": 0.05
          },
          "updatemenudefaults": {
           "bgcolor": "#506784",
           "borderwidth": 0
          },
          "xaxis": {
           "automargin": true,
           "gridcolor": "#283442",
           "linecolor": "#506784",
           "ticks": "",
           "title": {
            "standoff": 15
           },
           "zerolinecolor": "#283442",
           "zerolinewidth": 2
          },
          "yaxis": {
           "automargin": true,
           "gridcolor": "#283442",
           "linecolor": "#506784",
           "ticks": "",
           "title": {
            "standoff": 15
           },
           "zerolinecolor": "#283442",
           "zerolinewidth": 2
          }
         }
        },
        "title": {
         "text": "Argentinian migration during the 2000s"
        },
        "xaxis": {
         "anchor": "y",
         "domain": [
          0.64,
          1
         ],
         "tickangle": 45
        },
        "xaxis2": {
         "anchor": "y2",
         "domain": [
          0.64,
          1
         ],
         "tickangle": 45
        },
        "yaxis": {
         "anchor": "x",
         "domain": [
          0.7,
          1
         ]
        },
        "yaxis2": {
         "anchor": "x2",
         "domain": [
          0,
          0.44999999999999996
         ]
        }
       }
      },
      "text/html": [
       "<div>                            <div id=\"783dcfb3-9023-48ff-a1ad-2052a7472d2c\" class=\"plotly-graph-div\" style=\"height:500px; width:100%;\"></div>            <script type=\"text/javascript\">                require([\"plotly\"], function(Plotly) {                    window.PLOTLYENV=window.PLOTLYENV || {};                                    if (document.getElementById(\"783dcfb3-9023-48ff-a1ad-2052a7472d2c\")) {                    Plotly.newPlot(                        \"783dcfb3-9023-48ff-a1ad-2052a7472d2c\",                        [{\"marker\":{\"color\":\"cyan\"},\"showlegend\":false,\"type\":\"bar\",\"x\":[\"United States\",\"Spain\",\"Paraguay\",\"Chile\",\"Israel\",\"Bolivia\",\"Brazil\",\"Uruguay\",\"Italy\",\"France\",\"Canada\",\"Australia\",\"United Kingdom\",\"Venezuela\",\"Mexico\",\"Germany\"],\"xaxis\":\"x\",\"y\":[133210,83803,64284,45713,36951,27612,27553,25146,20311,17999,13536,10749,10198,8733,6564,5112],\"yaxis\":\"y\"},{\"marker\":{\"color\":\"crimson\"},\"name\":\"222\",\"showlegend\":false,\"type\":\"bar\",\"x\":[\"Paraguay\",\"Bolivia\",\"Italy\",\"Chile\",\"Spain\",\"Uruguay\",\"Peru\",\"Brazil\",\"Poland\",\"Germany\",\"United States\",\"Ukraine\",\"Portugal\",\"South Korea\",\"France\",\"Japan\",\"Colombia\",\"China\"],\"xaxis\":\"x2\",\"y\":[331688,237213,224155,219104,137084,119169,91182,36424,14469,10420,10338,9498,9019,8201,7332,5348,4264,4039],\"yaxis\":\"y2\"},{\"hoverinfo\":\"text\",\"locationmode\":\"country names\",\"locations\":[\"Paraguay\",\"Bolivia\",\"Italy\",\"Chile\",\"Spain\",\"Uruguay\",\"Peru\",\"Brazil\",\"Poland\",\"Germany\",\"United States\",\"Ukraine\",\"Portugal\",\"South Korea\",\"France\",\"Japan\",\"Colombia\",\"China\"],\"marker\":{\"color\":\"rgb(255, 0, 0)\",\"line\":{\"color\":\"rgba(68, 68, 68, 0)\",\"width\":3},\"size\":[16.5844,11.86065,11.20775,10.9552,6.8542,5.95845,4.5591,1.8212,0.72345,0.521,0.5169,0.4749,0.45095,0.41005,0.3666,0.2674,0.2132,0.20195]},\"mode\":\"markers\",\"text\":[\"Paraguay\",\"Bolivia\",\"Italy\",\"Chile\",\"Spain\",\"Uruguay\",\"Peru\",\"Brazil\",\"Poland\",\"Germany\",\"United States\",\"Ukraine\",\"Portugal\",\"South Korea\",\"France\",\"Japan\",\"Colombia\",\"China\"],\"type\":\"scattergeo\"},{\"hoverinfo\":\"text\",\"locationmode\":\"country names\",\"locations\":[\"United States\",\"Spain\",\"Paraguay\",\"Chile\",\"Israel\",\"Bolivia\",\"Brazil\",\"Uruguay\",\"Italy\",\"France\",\"Canada\",\"Australia\",\"United Kingdom\",\"Venezuela\",\"Mexico\",\"Germany\"],\"marker\":{\"color\":\"rgb(255, 0, 0)\",\"line\":{\"color\":\"cyan\",\"width\":3},\"size\":[6.6605,4.19015,3.2142,2.28565,1.84755,1.3806,1.37765,1.2573,1.01555,0.89995,0.6768,0.53745,0.5099,0.43665,0.3282,0.2556]},\"mode\":\"markers\",\"text\":[\"United States\",\"Spain\",\"Paraguay\",\"Chile\",\"Israel\",\"Bolivia\",\"Brazil\",\"Uruguay\",\"Italy\",\"France\",\"Canada\",\"Australia\",\"United Kingdom\",\"Venezuela\",\"Mexico\",\"Germany\"],\"type\":\"scattergeo\"}],                        {\"annotations\":[{\"font\":{\"size\":12},\"showarrow\":false,\"text\":\"Source: UN\",\"x\":0.046,\"xanchor\":\"center\",\"xref\":\"paper\",\"y\":-0.17,\"yanchor\":\"bottom\",\"yref\":\"paper\"},{\"font\":{\"size\":16},\"showarrow\":false,\"text\":\"Emigration\",\"x\":0.82,\"xanchor\":\"center\",\"xref\":\"paper\",\"y\":0.99,\"yanchor\":\"bottom\",\"yref\":\"paper\"},{\"font\":{\"size\":16},\"showarrow\":false,\"text\":\"Inmigration\",\"x\":0.82,\"xanchor\":\"center\",\"xref\":\"paper\",\"y\":0.45,\"yanchor\":\"bottom\",\"yref\":\"paper\"}],\"geo\":{\"domain\":{\"x\":[0.0,0.54],\"y\":[0.0,1.0]}},\"height\":500,\"margin\":{\"b\":10,\"l\":55,\"r\":12,\"t\":85},\"showlegend\":false,\"template\":{\"data\":{\"bar\":[{\"error_x\":{\"color\":\"#f2f5fa\"},\"error_y\":{\"color\":\"#f2f5fa\"},\"marker\":{\"line\":{\"color\":\"rgb(17,17,17)\",\"width\":0.5},\"pattern\":{\"fillmode\":\"overlay\",\"size\":10,\"solidity\":0.2}},\"type\":\"bar\"}],\"barpolar\":[{\"marker\":{\"line\":{\"color\":\"rgb(17,17,17)\",\"width\":0.5},\"pattern\":{\"fillmode\":\"overlay\",\"size\":10,\"solidity\":0.2}},\"type\":\"barpolar\"}],\"carpet\":[{\"aaxis\":{\"endlinecolor\":\"#A2B1C6\",\"gridcolor\":\"#506784\",\"linecolor\":\"#506784\",\"minorgridcolor\":\"#506784\",\"startlinecolor\":\"#A2B1C6\"},\"baxis\":{\"endlinecolor\":\"#A2B1C6\",\"gridcolor\":\"#506784\",\"linecolor\":\"#506784\",\"minorgridcolor\":\"#506784\",\"startlinecolor\":\"#A2B1C6\"},\"type\":\"carpet\"}],\"choropleth\":[{\"colorbar\":{\"outlinewidth\":0,\"ticks\":\"\"},\"type\":\"choropleth\"}],\"contour\":[{\"colorbar\":{\"outlinewidth\":0,\"ticks\":\"\"},\"colorscale\":[[0.0,\"#0d0887\"],[0.1111111111111111,\"#46039f\"],[0.2222222222222222,\"#7201a8\"],[0.3333333333333333,\"#9c179e\"],[0.4444444444444444,\"#bd3786\"],[0.5555555555555556,\"#d8576b\"],[0.6666666666666666,\"#ed7953\"],[0.7777777777777778,\"#fb9f3a\"],[0.8888888888888888,\"#fdca26\"],[1.0,\"#f0f921\"]],\"type\":\"contour\"}],\"contourcarpet\":[{\"colorbar\":{\"outlinewidth\":0,\"ticks\":\"\"},\"type\":\"contourcarpet\"}],\"heatmap\":[{\"colorbar\":{\"outlinewidth\":0,\"ticks\":\"\"},\"colorscale\":[[0.0,\"#0d0887\"],[0.1111111111111111,\"#46039f\"],[0.2222222222222222,\"#7201a8\"],[0.3333333333333333,\"#9c179e\"],[0.4444444444444444,\"#bd3786\"],[0.5555555555555556,\"#d8576b\"],[0.6666666666666666,\"#ed7953\"],[0.7777777777777778,\"#fb9f3a\"],[0.8888888888888888,\"#fdca26\"],[1.0,\"#f0f921\"]],\"type\":\"heatmap\"}],\"heatmapgl\":[{\"colorbar\":{\"outlinewidth\":0,\"ticks\":\"\"},\"colorscale\":[[0.0,\"#0d0887\"],[0.1111111111111111,\"#46039f\"],[0.2222222222222222,\"#7201a8\"],[0.3333333333333333,\"#9c179e\"],[0.4444444444444444,\"#bd3786\"],[0.5555555555555556,\"#d8576b\"],[0.6666666666666666,\"#ed7953\"],[0.7777777777777778,\"#fb9f3a\"],[0.8888888888888888,\"#fdca26\"],[1.0,\"#f0f921\"]],\"type\":\"heatmapgl\"}],\"histogram\":[{\"marker\":{\"pattern\":{\"fillmode\":\"overlay\",\"size\":10,\"solidity\":0.2}},\"type\":\"histogram\"}],\"histogram2d\":[{\"colorbar\":{\"outlinewidth\":0,\"ticks\":\"\"},\"colorscale\":[[0.0,\"#0d0887\"],[0.1111111111111111,\"#46039f\"],[0.2222222222222222,\"#7201a8\"],[0.3333333333333333,\"#9c179e\"],[0.4444444444444444,\"#bd3786\"],[0.5555555555555556,\"#d8576b\"],[0.6666666666666666,\"#ed7953\"],[0.7777777777777778,\"#fb9f3a\"],[0.8888888888888888,\"#fdca26\"],[1.0,\"#f0f921\"]],\"type\":\"histogram2d\"}],\"histogram2dcontour\":[{\"colorbar\":{\"outlinewidth\":0,\"ticks\":\"\"},\"colorscale\":[[0.0,\"#0d0887\"],[0.1111111111111111,\"#46039f\"],[0.2222222222222222,\"#7201a8\"],[0.3333333333333333,\"#9c179e\"],[0.4444444444444444,\"#bd3786\"],[0.5555555555555556,\"#d8576b\"],[0.6666666666666666,\"#ed7953\"],[0.7777777777777778,\"#fb9f3a\"],[0.8888888888888888,\"#fdca26\"],[1.0,\"#f0f921\"]],\"type\":\"histogram2dcontour\"}],\"mesh3d\":[{\"colorbar\":{\"outlinewidth\":0,\"ticks\":\"\"},\"type\":\"mesh3d\"}],\"parcoords\":[{\"line\":{\"colorbar\":{\"outlinewidth\":0,\"ticks\":\"\"}},\"type\":\"parcoords\"}],\"pie\":[{\"automargin\":true,\"type\":\"pie\"}],\"scatter\":[{\"marker\":{\"line\":{\"color\":\"#283442\"}},\"type\":\"scatter\"}],\"scatter3d\":[{\"line\":{\"colorbar\":{\"outlinewidth\":0,\"ticks\":\"\"}},\"marker\":{\"colorbar\":{\"outlinewidth\":0,\"ticks\":\"\"}},\"type\":\"scatter3d\"}],\"scattercarpet\":[{\"marker\":{\"colorbar\":{\"outlinewidth\":0,\"ticks\":\"\"}},\"type\":\"scattercarpet\"}],\"scattergeo\":[{\"marker\":{\"colorbar\":{\"outlinewidth\":0,\"ticks\":\"\"}},\"type\":\"scattergeo\"}],\"scattergl\":[{\"marker\":{\"line\":{\"color\":\"#283442\"}},\"type\":\"scattergl\"}],\"scattermapbox\":[{\"marker\":{\"colorbar\":{\"outlinewidth\":0,\"ticks\":\"\"}},\"type\":\"scattermapbox\"}],\"scatterpolar\":[{\"marker\":{\"colorbar\":{\"outlinewidth\":0,\"ticks\":\"\"}},\"type\":\"scatterpolar\"}],\"scatterpolargl\":[{\"marker\":{\"colorbar\":{\"outlinewidth\":0,\"ticks\":\"\"}},\"type\":\"scatterpolargl\"}],\"scatterternary\":[{\"marker\":{\"colorbar\":{\"outlinewidth\":0,\"ticks\":\"\"}},\"type\":\"scatterternary\"}],\"surface\":[{\"colorbar\":{\"outlinewidth\":0,\"ticks\":\"\"},\"colorscale\":[[0.0,\"#0d0887\"],[0.1111111111111111,\"#46039f\"],[0.2222222222222222,\"#7201a8\"],[0.3333333333333333,\"#9c179e\"],[0.4444444444444444,\"#bd3786\"],[0.5555555555555556,\"#d8576b\"],[0.6666666666666666,\"#ed7953\"],[0.7777777777777778,\"#fb9f3a\"],[0.8888888888888888,\"#fdca26\"],[1.0,\"#f0f921\"]],\"type\":\"surface\"}],\"table\":[{\"cells\":{\"fill\":{\"color\":\"#506784\"},\"line\":{\"color\":\"rgb(17,17,17)\"}},\"header\":{\"fill\":{\"color\":\"#2a3f5f\"},\"line\":{\"color\":\"rgb(17,17,17)\"}},\"type\":\"table\"}]},\"layout\":{\"annotationdefaults\":{\"arrowcolor\":\"#f2f5fa\",\"arrowhead\":0,\"arrowwidth\":1},\"autotypenumbers\":\"strict\",\"coloraxis\":{\"colorbar\":{\"outlinewidth\":0,\"ticks\":\"\"}},\"colorscale\":{\"diverging\":[[0,\"#8e0152\"],[0.1,\"#c51b7d\"],[0.2,\"#de77ae\"],[0.3,\"#f1b6da\"],[0.4,\"#fde0ef\"],[0.5,\"#f7f7f7\"],[0.6,\"#e6f5d0\"],[0.7,\"#b8e186\"],[0.8,\"#7fbc41\"],[0.9,\"#4d9221\"],[1,\"#276419\"]],\"sequential\":[[0.0,\"#0d0887\"],[0.1111111111111111,\"#46039f\"],[0.2222222222222222,\"#7201a8\"],[0.3333333333333333,\"#9c179e\"],[0.4444444444444444,\"#bd3786\"],[0.5555555555555556,\"#d8576b\"],[0.6666666666666666,\"#ed7953\"],[0.7777777777777778,\"#fb9f3a\"],[0.8888888888888888,\"#fdca26\"],[1.0,\"#f0f921\"]],\"sequentialminus\":[[0.0,\"#0d0887\"],[0.1111111111111111,\"#46039f\"],[0.2222222222222222,\"#7201a8\"],[0.3333333333333333,\"#9c179e\"],[0.4444444444444444,\"#bd3786\"],[0.5555555555555556,\"#d8576b\"],[0.6666666666666666,\"#ed7953\"],[0.7777777777777778,\"#fb9f3a\"],[0.8888888888888888,\"#fdca26\"],[1.0,\"#f0f921\"]]},\"colorway\":[\"#636efa\",\"#EF553B\",\"#00cc96\",\"#ab63fa\",\"#FFA15A\",\"#19d3f3\",\"#FF6692\",\"#B6E880\",\"#FF97FF\",\"#FECB52\"],\"font\":{\"color\":\"#f2f5fa\"},\"geo\":{\"bgcolor\":\"rgb(17,17,17)\",\"lakecolor\":\"rgb(17,17,17)\",\"landcolor\":\"rgb(17,17,17)\",\"showlakes\":true,\"showland\":true,\"subunitcolor\":\"#506784\"},\"hoverlabel\":{\"align\":\"left\"},\"hovermode\":\"closest\",\"mapbox\":{\"style\":\"dark\"},\"paper_bgcolor\":\"rgb(17,17,17)\",\"plot_bgcolor\":\"rgb(17,17,17)\",\"polar\":{\"angularaxis\":{\"gridcolor\":\"#506784\",\"linecolor\":\"#506784\",\"ticks\":\"\"},\"bgcolor\":\"rgb(17,17,17)\",\"radialaxis\":{\"gridcolor\":\"#506784\",\"linecolor\":\"#506784\",\"ticks\":\"\"}},\"scene\":{\"xaxis\":{\"backgroundcolor\":\"rgb(17,17,17)\",\"gridcolor\":\"#506784\",\"gridwidth\":2,\"linecolor\":\"#506784\",\"showbackground\":true,\"ticks\":\"\",\"zerolinecolor\":\"#C8D4E3\"},\"yaxis\":{\"backgroundcolor\":\"rgb(17,17,17)\",\"gridcolor\":\"#506784\",\"gridwidth\":2,\"linecolor\":\"#506784\",\"showbackground\":true,\"ticks\":\"\",\"zerolinecolor\":\"#C8D4E3\"},\"zaxis\":{\"backgroundcolor\":\"rgb(17,17,17)\",\"gridcolor\":\"#506784\",\"gridwidth\":2,\"linecolor\":\"#506784\",\"showbackground\":true,\"ticks\":\"\",\"zerolinecolor\":\"#C8D4E3\"}},\"shapedefaults\":{\"line\":{\"color\":\"#f2f5fa\"}},\"sliderdefaults\":{\"bgcolor\":\"#C8D4E3\",\"bordercolor\":\"rgb(17,17,17)\",\"borderwidth\":1,\"tickwidth\":0},\"ternary\":{\"aaxis\":{\"gridcolor\":\"#506784\",\"linecolor\":\"#506784\",\"ticks\":\"\"},\"baxis\":{\"gridcolor\":\"#506784\",\"linecolor\":\"#506784\",\"ticks\":\"\"},\"bgcolor\":\"rgb(17,17,17)\",\"caxis\":{\"gridcolor\":\"#506784\",\"linecolor\":\"#506784\",\"ticks\":\"\"}},\"title\":{\"x\":0.05},\"updatemenudefaults\":{\"bgcolor\":\"#506784\",\"borderwidth\":0},\"xaxis\":{\"automargin\":true,\"gridcolor\":\"#283442\",\"linecolor\":\"#506784\",\"ticks\":\"\",\"title\":{\"standoff\":15},\"zerolinecolor\":\"#283442\",\"zerolinewidth\":2},\"yaxis\":{\"automargin\":true,\"gridcolor\":\"#283442\",\"linecolor\":\"#506784\",\"ticks\":\"\",\"title\":{\"standoff\":15},\"zerolinecolor\":\"#283442\",\"zerolinewidth\":2}}},\"title\":{\"text\":\"Argentinian migration during the 2000s\"},\"xaxis\":{\"anchor\":\"y\",\"domain\":[0.64,1.0],\"tickangle\":45},\"xaxis2\":{\"anchor\":\"y2\",\"domain\":[0.64,1.0],\"tickangle\":45},\"yaxis\":{\"anchor\":\"x\",\"domain\":[0.7,1.0]},\"yaxis2\":{\"anchor\":\"x2\",\"domain\":[0.0,0.44999999999999996]}},                        {\"responsive\": true}                    ).then(function(){\n",
       "                            \n",
       "var gd = document.getElementById('783dcfb3-9023-48ff-a1ad-2052a7472d2c');\n",
       "var x = new MutationObserver(function (mutations, observer) {{\n",
       "        var display = window.getComputedStyle(gd).display;\n",
       "        if (!display || display === 'none') {{\n",
       "            console.log([gd, 'removed!']);\n",
       "            Plotly.purge(gd);\n",
       "            observer.disconnect();\n",
       "        }}\n",
       "}});\n",
       "\n",
       "// Listen for the removal of the full notebook cells\n",
       "var notebookContainer = gd.closest('#notebook-container');\n",
       "if (notebookContainer) {{\n",
       "    x.observe(notebookContainer, {childList: true});\n",
       "}}\n",
       "\n",
       "// Listen for the clearing of the current output cell\n",
       "var outputEl = gd.closest('.output');\n",
       "if (outputEl) {{\n",
       "    x.observe(outputEl, {childList: true});\n",
       "}}\n",
       "\n",
       "                        })                };                });            </script>        </div>"
      ]
     },
     "metadata": {},
     "output_type": "display_data"
    }
   ],
   "source": [
    "# Initialize figure with subplots\n",
    "fig = make_subplots(\n",
    "    rows=2, cols=2,\n",
    "    column_widths=[0.6, 0.4],\n",
    "    row_heights=[0.4, 0.6],\n",
    "    subplot_titles=[\"Plot 1\", \"Plot 2\", \"Plot 3\",\" \"],\n",
    "    specs=[[{\"type\": \"scattergeo\", \"rowspan\": 2}, {\"type\": \"bar\"}],\n",
    "           [            None                    , {\"type\": \"bar\"}]]\n",
    "     )\n",
    "\n",
    "\n",
    "# Add destination locations bar chart\n",
    "fig.add_trace(\n",
    "    go.Bar(x=list(destination_arg['dest_name']),y=list(destination_arg['2000'].values.flatten()),marker=dict(color=\"cyan\"), showlegend=False),\n",
    "    row=1, col=2\n",
    ")\n",
    "\n",
    "\n",
    "\n",
    "\n",
    "# Add origin locations bar chart\n",
    "fig.add_trace(\n",
    "    go.Bar(x=list(origin_arg['origin_name']),y=list(origin_arg['2000'].values.flatten()),marker=dict(color=\"crimson\"),name='222', showlegend=False),\n",
    "    row=2, col=2\n",
    ")\n",
    "\n",
    "fig.add_trace(go.Scattergeo(\n",
    "    locationmode = 'country names',\n",
    "    locations = origin_arg['origin_name'],\n",
    "    hoverinfo = 'text',\n",
    "    text = origin_arg['origin_name'].values,\n",
    "    mode = 'markers',\n",
    "    marker = dict(\n",
    "        size =origin_arg['2000']/20000,\n",
    "        color = 'rgb(255, 0, 0)',\n",
    "        line = dict(\n",
    "            width = 3,\n",
    "            color = 'rgba(68, 68, 68, 0)'\n",
    "        )\n",
    "    )))\n",
    "\n",
    "fig.add_trace(go.Scattergeo(\n",
    "    locationmode = 'country names',\n",
    "    locations = destination_arg['dest_name'],\n",
    "    hoverinfo = 'text',\n",
    "    text = destination_arg['dest_name'].values,\n",
    "    mode = 'markers',\n",
    "    marker = dict(\n",
    "        size =(destination_arg['2000'].values)/20000,\n",
    "        color = 'rgb(255, 0, 0)',\n",
    "        line = dict(\n",
    "            width = 3,\n",
    "            color = 'cyan'\n",
    "        )\n",
    "    )))\n",
    "\n",
    "\n",
    "\n",
    "\n",
    "# Rotate x-axis labels\n",
    "fig.update_xaxes(tickangle=45)\n",
    "\n",
    "# Set theme, margin, and annotation in layout\n",
    "fig.update_layout(\n",
    "    title_text=\"Argentinian migration during the 2000s\", height=500,\n",
    "    template=\"plotly_dark\",\n",
    "    margin=dict(r=12, t=85, b=10, l=55),\n",
    "    showlegend=False,\n",
    "    annotations=[\n",
    "        dict(\n",
    "            text=\"Source: UN\",\n",
    "            showarrow=False,\n",
    "            font=dict(\n",
    "                size=12\n",
    "            ),\n",
    "            xref=\"paper\",\n",
    "            yref=\"paper\",\n",
    "            x=.046,\n",
    "            y=-0.17)\n",
    "    ,\n",
    "        dict(\n",
    "            text=\"Emigration\",\n",
    "            showarrow=False,\n",
    "            #xref=\"paper\",\n",
    "            #yref=\"paper\",\n",
    "            x=0.82,\n",
    "            y=0.99)\n",
    "        ,\n",
    "        dict(\n",
    "            text=\"Inmigration\",\n",
    "            showarrow=False,\n",
    "            #xref=\"paper\",\n",
    "            #yref=\"paper\",\n",
    "            x=0.82,\n",
    "            y=0.45)]\n",
    "    \n",
    "    \n",
    ")\n",
    "\n",
    "fig.show()"
   ]
  }
 ],
 "metadata": {
  "kernelspec": {
   "display_name": "Python 3",
   "language": "python",
   "name": "python3"
  },
  "language_info": {
   "codemirror_mode": {
    "name": "ipython",
    "version": 3
   },
   "file_extension": ".py",
   "mimetype": "text/x-python",
   "name": "python",
   "nbconvert_exporter": "python",
   "pygments_lexer": "ipython3",
   "version": "3.7.7"
  }
 },
 "nbformat": 4,
 "nbformat_minor": 4
}
